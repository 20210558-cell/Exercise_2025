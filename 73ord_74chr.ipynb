{
  "nbformat": 4,
  "nbformat_minor": 0,
  "metadata": {
    "colab": {
      "provenance": [],
      "authorship_tag": "ABX9TyNCocFYty8jrMOCx5E0JGgB",
      "include_colab_link": true
    },
    "kernelspec": {
      "name": "python3",
      "display_name": "Python 3"
    },
    "language_info": {
      "name": "python"
    }
  },
  "cells": [
    {
      "cell_type": "markdown",
      "metadata": {
        "id": "view-in-github",
        "colab_type": "text"
      },
      "source": [
        "<a href=\"https://colab.research.google.com/github/20210558-cell/Exercise_2025/blob/main/73ord_74chr.ipynb\" target=\"_parent\"><img src=\"https://colab.research.google.com/assets/colab-badge.svg\" alt=\"Open In Colab\"/></a>"
      ]
    },
    {
      "cell_type": "code",
      "execution_count": null,
      "metadata": {
        "colab": {
          "base_uri": "https://localhost:8080/"
        },
        "id": "sqBkstmEP70v",
        "outputId": "a060a711-aa5a-444f-b727-428d494a9e14"
      },
      "outputs": [
        {
          "name": "stdout",
          "output_type": "stream",
          "text": [
            "문자 1개를 입력하세요[끝내려면 엔터를 치세요]:A\n",
            "-->문자 \"A\"의 코드값:0x41\n",
            "문자 1개를 입력하세요[끝내려면 엔터를 치세요]:가\n",
            "-->문자 \"가\"의 코드값:0xac00\n",
            "문자 1개를 입력하세요[끝내려면 엔터를 치세요]:@\n",
            "-->문자 \"@\"의 코드값:0x40\n",
            "문자 1개를 입력하세요[끝내려면 엔터를 치세요]:\n"
          ]
        }
      ],
      "source": [
        "while True:\n",
        "  ch = input('문자 1개를 입력하세요[끝내려면 엔터를 치세요]:')\n",
        "  if len(ch) == 0:\n",
        "    break\n",
        "  ch = ch[0]\n",
        "  code = ord(ch)\n",
        "  print(f'-->문자 \"{ch}\"의 코드값:{hex(code)}')"
      ]
    },
    {
      "cell_type": "code",
      "source": [
        "while True:\n",
        "  code = input('0x로 시작하는 16진수 문자 코드값을 입력하세요[끝내려면 엔터를 치세요]:')\n",
        "  if len(code) == 0:\n",
        "    break\n",
        "  unicode = int(code, 16)\n",
        "  try:\n",
        "    ch = chr(unicode)\n",
        "    print(f'-->코드값:{code}, 문자:\"{ch}\"')\n",
        "  except ValueError:\n",
        "      print(f'코드값 {code}에 해당하는 문자가 존재하지 않습니다.')"
      ],
      "metadata": {
        "colab": {
          "base_uri": "https://localhost:8080/"
        },
        "id": "2hUUnaYTQgip",
        "outputId": "d269ea1c-32c3-4f98-de14-aca25cefd659"
      },
      "execution_count": null,
      "outputs": [
        {
          "name": "stdout",
          "output_type": "stream",
          "text": [
            "0x로 시작하는 16진수 문자 코드값을 입력하세요[끝내려면 엔터를 치세요]:0x61\n",
            "-->코드값:0x61, 문자:\"a\"\n",
            "0x로 시작하는 16진수 문자 코드값을 입력하세요[끝내려면 엔터를 치세요]:0x03b2\n",
            "-->코드값:0x03b2, 문자:\"β\"\n",
            "0x로 시작하는 16진수 문자 코드값을 입력하세요[끝내려면 엔터를 치세요]:0xac00\n",
            "-->코드값:0xac00, 문자:\"가\"\n",
            "0x로 시작하는 16진수 문자 코드값을 입력하세요[끝내려면 엔터를 치세요]:\n"
          ]
        }
      ]
    }
  ]
}