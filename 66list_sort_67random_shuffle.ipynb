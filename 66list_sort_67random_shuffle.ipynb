{
  "nbformat": 4,
  "nbformat_minor": 0,
  "metadata": {
    "colab": {
      "provenance": [],
      "authorship_tag": "ABX9TyNrFUUCiXpYptHMloyPEqmS",
      "include_colab_link": true
    },
    "kernelspec": {
      "name": "python3",
      "display_name": "Python 3"
    },
    "language_info": {
      "name": "python"
    }
  },
  "cells": [
    {
      "cell_type": "markdown",
      "metadata": {
        "id": "view-in-github",
        "colab_type": "text"
      },
      "source": [
        "<a href=\"https://colab.research.google.com/github/20210558-cell/Exercise_2025/blob/main/66list_sort_67random_shuffle.ipynb\" target=\"_parent\"><img src=\"https://colab.research.google.com/assets/colab-badge.svg\" alt=\"Open In Colab\"/></a>"
      ]
    },
    {
      "cell_type": "code",
      "execution_count": null,
      "metadata": {
        "colab": {
          "base_uri": "https://localhost:8080/"
        },
        "id": "0ixQkNwo4qN_",
        "outputId": "192c6c20-1bd4-418e-f636-41f30926407a"
      },
      "outputs": [
        {
          "output_type": "stream",
          "name": "stdout",
          "text": [
            "['Aemy', 'Bob', 'Kelly', 'Mary', 'Michale', 'Sams', 'Tom']\n"
          ]
        }
      ],
      "source": [
        "nameList = ['Mary', 'Sams', 'Aemy', 'Tom', 'Michale', 'Bob', 'Kelly']\n",
        "nameList.sort()\n",
        "print(nameList)"
      ]
    },
    {
      "cell_type": "code",
      "source": [
        "nameList = ['Mary', 'Sams', 'Aemy', 'Tom', 'Michale', 'Bob', 'Kelly']\n",
        "nameList.sort(reverse=True)\n",
        "print(nameList)"
      ],
      "metadata": {
        "colab": {
          "base_uri": "https://localhost:8080/"
        },
        "id": "NJde7LI65BCw",
        "outputId": "97623db9-780b-43ff-f7cb-e6083204779b"
      },
      "execution_count": null,
      "outputs": [
        {
          "output_type": "stream",
          "name": "stdout",
          "text": [
            "['Tom', 'Sams', 'Michale', 'Mary', 'Kelly', 'Bob', 'Aemy']\n"
          ]
        }
      ]
    },
    {
      "cell_type": "code",
      "source": [
        "import random\n",
        "numList = list(range(1, 11))\n",
        "random.shuffle(numList)\n",
        "print(numList)"
      ],
      "metadata": {
        "colab": {
          "base_uri": "https://localhost:8080/"
        },
        "id": "bytQ6s7W5HLh",
        "outputId": "6cc3cdaf-ac0d-42fd-b59c-68af2e1777ca"
      },
      "execution_count": null,
      "outputs": [
        {
          "output_type": "stream",
          "name": "stdout",
          "text": [
            "[3, 9, 7, 1, 10, 5, 8, 4, 6, 2]\n"
          ]
        }
      ]
    },
    {
      "cell_type": "code",
      "source": [
        "numList = list(range(1, 11))\n",
        "copied = numList.copy()\n",
        "random.shuffle(copied)\n",
        "print(f'numList:{numList}')\n",
        "print(f'copied:{copied}')"
      ],
      "metadata": {
        "colab": {
          "base_uri": "https://localhost:8080/"
        },
        "id": "3ijCyVuF5Uj-",
        "outputId": "1f9d8984-151b-4f96-d51c-e55f58446871"
      },
      "execution_count": null,
      "outputs": [
        {
          "output_type": "stream",
          "name": "stdout",
          "text": [
            "numList:[1, 2, 3, 4, 5, 6, 7, 8, 9, 10]\n",
            "copied:[6, 10, 7, 5, 8, 1, 2, 9, 3, 4]\n"
          ]
        }
      ]
    }
  ]
}