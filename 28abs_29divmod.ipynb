{
  "nbformat": 4,
  "nbformat_minor": 0,
  "metadata": {
    "colab": {
      "provenance": [],
      "authorship_tag": "ABX9TyMoGMq5XAyt//trr+csZLkr",
      "include_colab_link": true
    },
    "kernelspec": {
      "name": "python3",
      "display_name": "Python 3"
    },
    "language_info": {
      "name": "python"
    }
  },
  "cells": [
    {
      "cell_type": "markdown",
      "metadata": {
        "id": "view-in-github",
        "colab_type": "text"
      },
      "source": [
        "<a href=\"https://colab.research.google.com/github/20210558-cell/Exercise_2025/blob/main/28abs_29divmod.ipynb\" target=\"_parent\"><img src=\"https://colab.research.google.com/assets/colab-badge.svg\" alt=\"Open In Colab\"/></a>"
      ]
    },
    {
      "cell_type": "code",
      "execution_count": null,
      "metadata": {
        "colab": {
          "base_uri": "https://localhost:8080/"
        },
        "id": "UK0QIz5jVcQh",
        "outputId": "73a2dd5f-d2ad-456e-96b8-3aac9aec44ec"
      },
      "outputs": [
        {
          "output_type": "stream",
          "name": "stdout",
          "text": [
            "8\n",
            "3.14\n",
            "5.0\n"
          ]
        }
      ],
      "source": [
        "intData = -8\n",
        "floatData = 3.14\n",
        "complexData = 3 + 4j\n",
        "print(abs(intData))\n",
        "print(abs(floatData))\n",
        "print(abs(complexData))"
      ]
    },
    {
      "cell_type": "code",
      "source": [
        "x = 11113\n",
        "y = 23\n",
        "ret1 = x // y\n",
        "ret2 = x % y\n",
        "print(f'{x}을(를) {y}(으)로 나누면 몫이 {ret1}, 나머지가 {ret2}입니다.')"
      ],
      "metadata": {
        "colab": {
          "base_uri": "https://localhost:8080/"
        },
        "id": "742XEjbkWTkB",
        "outputId": "18efee81-3658-42ef-a5b3-66447c8c35fb"
      },
      "execution_count": null,
      "outputs": [
        {
          "output_type": "stream",
          "name": "stdout",
          "text": [
            "11113을(를) 23(으)로 나누면 몫이 483, 나머지가 4입니다.\n"
          ]
        }
      ]
    },
    {
      "cell_type": "code",
      "source": [
        "x = 11113\n",
        "y = 23\n",
        "ret1, ret2 = divmod(x, y)\n",
        "print(f'{x}을(를) {y}(으)로 나누면 몫이 {ret1}, 나머지가 {ret2}입니다.')"
      ],
      "metadata": {
        "colab": {
          "base_uri": "https://localhost:8080/"
        },
        "id": "E65KAHdmWszR",
        "outputId": "8eff9c31-6de5-4f40-cab1-a3e5c545a07c"
      },
      "execution_count": null,
      "outputs": [
        {
          "output_type": "stream",
          "name": "stdout",
          "text": [
            "11113을(를) 23(으)로 나누면 몫이 483, 나머지가 4입니다.\n"
          ]
        }
      ]
    }
  ]
}