{
  "nbformat": 4,
  "nbformat_minor": 0,
  "metadata": {
    "colab": {
      "provenance": [],
      "name": "24logical operator_25bitwise operator.ipynb",
      "authorship_tag": "ABX9TyPVuZAnpryqEiegv75gPLP2",
      "include_colab_link": true
    },
    "kernelspec": {
      "name": "python3",
      "display_name": "Python 3"
    },
    "language_info": {
      "name": "python"
    }
  },
  "cells": [
    {
      "cell_type": "markdown",
      "metadata": {
        "id": "view-in-github",
        "colab_type": "text"
      },
      "source": [
        "<a href=\"https://colab.research.google.com/github/20210558-cell/Exercise_2025/blob/main/24logical%20operator_25bitwise%20operator.ipynb\" target=\"_parent\"><img src=\"https://colab.research.google.com/assets/colab-badge.svg\" alt=\"Open In Colab\"/></a>"
      ]
    },
    {
      "cell_type": "code",
      "execution_count": null,
      "metadata": {
        "colab": {
          "base_uri": "https://localhost:8080/"
        },
        "id": "TPnAuMh9J8nh",
        "outputId": "a9ea8ae1-43a4-4b73-9c44-546ce38c840b"
      },
      "outputs": [
        {
          "output_type": "stream",
          "name": "stdout",
          "text": [
            "False\n",
            "True\n",
            "True\n",
            "False\n",
            "True\n",
            "False\n"
          ]
        }
      ],
      "source": [
        "x = 1; y = 2\n",
        "strData1 = 'Hello'; strData2 = 'Python'\n",
        "flag1 = x == y    # False\n",
        "flag2 = x < y     # True\n",
        "flag3 = strData1 != strData2    # True\n",
        "flag4 = strData1 > strData2     # Flase\n",
        "\n",
        "print(flag1 and flag2)\n",
        "print(flag2 and flag3)\n",
        "print(flag3 or flag4)\n",
        "print(flag1 or flag4)\n",
        "print(not flag1)\n",
        "print(not flag2)"
      ]
    },
    {
      "cell_type": "code",
      "source": [
        "bit1 - 0x61; bit2 = 0x62\n",
        "print(hex(bit & bit2))    # 0x60이 출력됨\n",
        "print(hex(bit1 | bit2))   # 0x63이 출력됨\n",
        "print(hex(bit1 ^ bit2))   # 0x3이 출력됨\n",
        "print(hex(bit1 >> 1))     # 0x30이 출력됨\n",
        "print(hex(bit1 << 2))     # 0x184가 출력됨"
      ],
      "metadata": {
        "id": "fBxlPnN1Lwla"
      },
      "execution_count": null,
      "outputs": []
    },
    {
      "cell_type": "code",
      "source": [
        "byte1 = 0x6b\n",
        "\n",
        "# 하위 4비트 추출\n",
        "lower_4bit = byte1 & 0x0f\n",
        "\n",
        "# 상위 4비트 추출\n",
        "upper_4bit = (byte1 >> 4) & 0x0f\n",
        "\n",
        "print(hex(lower_4bit))\n",
        "print(hex(upper_4bit))"
      ],
      "metadata": {
        "colab": {
          "base_uri": "https://localhost:8080/"
        },
        "id": "T2Nj7wc8LxI7",
        "outputId": "7e2c38bd-cbb5-4198-f90e-436665d2cf17"
      },
      "execution_count": null,
      "outputs": [
        {
          "output_type": "stream",
          "name": "stdout",
          "text": [
            "0xb\n",
            "0x6\n"
          ]
        }
      ]
    }
  ]
}