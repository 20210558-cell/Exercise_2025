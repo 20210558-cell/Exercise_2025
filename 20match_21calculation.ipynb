{
  "nbformat": 4,
  "nbformat_minor": 0,
  "metadata": {
    "colab": {
      "provenance": [],
      "authorship_tag": "ABX9TyPK8Owm1KdeTXfERzh01XGH",
      "include_colab_link": true
    },
    "kernelspec": {
      "name": "python3",
      "display_name": "Python 3"
    },
    "language_info": {
      "name": "python"
    }
  },
  "cells": [
    {
      "cell_type": "markdown",
      "metadata": {
        "id": "view-in-github",
        "colab_type": "text"
      },
      "source": [
        "<a href=\"https://colab.research.google.com/github/20210558-cell/Exercise_2025/blob/main/20match_21calculation.ipynb\" target=\"_parent\"><img src=\"https://colab.research.google.com/assets/colab-badge.svg\" alt=\"Open In Colab\"/></a>"
      ]
    },
    {
      "cell_type": "code",
      "execution_count": null,
      "metadata": {
        "colab": {
          "base_uri": "https://localhost:8080/"
        },
        "id": "RkODpeoCH4H1",
        "outputId": "a3882c5d-6aaf-4cef-d6b0-ae1d50899fb1"
      },
      "outputs": [
        {
          "output_type": "stream",
          "name": "stdout",
          "text": [
            "Bad Request\n"
          ]
        }
      ],
      "source": [
        "http_status = 400\n",
        "match http_status:\n",
        "  case 400:\n",
        "    print('Bad Request')\n",
        "  case 401:\n",
        "    print('Unauthorized')\n",
        "  case 403:\n",
        "    print('Forbidden')\n",
        "  case 404:\n",
        "    print('Not Found')\n",
        "  case _:\n",
        "    print('기타 인터넷 문제로 뭔가 잘못됨')"
      ]
    },
    {
      "cell_type": "code",
      "source": [
        "http_status = 302\n",
        "match http_status:\n",
        "  case 200 | 202 | 203:\n",
        "    print('Success')\n",
        "  case 301 | 302 | 303:\n",
        "    print('Redirection')\n",
        "  case 400 | 401 | 403 | 404:\n",
        "    print('Client Errors')\n",
        "  case _:\n",
        "    print('기타 HTTP 응답 코드')"
      ],
      "metadata": {
        "colab": {
          "base_uri": "https://localhost:8080/"
        },
        "id": "YcwZWJT6Injk",
        "outputId": "47428400-30aa-44bd-9c50-3ae5c2ebb0bf"
      },
      "execution_count": null,
      "outputs": [
        {
          "output_type": "stream",
          "name": "stdout",
          "text": [
            "Redirection\n"
          ]
        }
      ]
    },
    {
      "cell_type": "code",
      "source": [
        "point = (0, 0)\n",
        "#point = (1, 0)\n",
        "#point = (0, 1)\n",
        "#point = (1, 1)\n",
        "match point:\n",
        "  case (0, 0):\n",
        "    print('원점 좌표')\n",
        "  case (x, 0):\n",
        "    print(f'x축 위의 점이며 x의 값은 {x}')\n",
        "  case (0, y):\n",
        "    print(f'y축 위의 점이며 y의 값은 {y}')\n",
        "  case (x, y):\n",
        "    print(f'(x, y) = ({x}, {y})')\n",
        "  case _:\n",
        "    print('오류: 2차원 좌표가 아님')"
      ],
      "metadata": {
        "colab": {
          "base_uri": "https://localhost:8080/"
        },
        "id": "uuVFyw3vJEXi",
        "outputId": "b31dc3ac-e988-4e88-a210-c99e7ed156af"
      },
      "execution_count": null,
      "outputs": [
        {
          "output_type": "stream",
          "name": "stdout",
          "text": [
            "원점 좌표\n"
          ]
        }
      ]
    },
    {
      "cell_type": "code",
      "source": [
        "x = 2\n",
        "y = 4\n",
        "print(x * y)\n",
        "print(x / y)\n",
        "print(x ** y)"
      ],
      "metadata": {
        "colab": {
          "base_uri": "https://localhost:8080/"
        },
        "id": "HPDr63G2J4cm",
        "outputId": "fa731436-4396-4ff8-f95d-13561573c4c6"
      },
      "execution_count": null,
      "outputs": [
        {
          "output_type": "stream",
          "name": "stdout",
          "text": [
            "8\n",
            "0.5\n",
            "16\n"
          ]
        }
      ]
    },
    {
      "cell_type": "code",
      "source": [
        "x = 5\n",
        "y = 2\n",
        "print(x // y)\n",
        "print(x % y)"
      ],
      "metadata": {
        "colab": {
          "base_uri": "https://localhost:8080/"
        },
        "id": "BYwO7OXCKEET",
        "outputId": "2e07f1fa-73bb-4e57-e210-df14dcad5610"
      },
      "execution_count": null,
      "outputs": [
        {
          "output_type": "stream",
          "name": "stdout",
          "text": [
            "2\n",
            "1\n"
          ]
        }
      ]
    }
  ]
}