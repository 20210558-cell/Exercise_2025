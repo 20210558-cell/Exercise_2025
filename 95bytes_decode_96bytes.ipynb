{
  "nbformat": 4,
  "nbformat_minor": 0,
  "metadata": {
    "colab": {
      "provenance": [],
      "authorship_tag": "ABX9TyMmynU+LyRsNWiSNVjyqIce",
      "include_colab_link": true
    },
    "kernelspec": {
      "name": "python3",
      "display_name": "Python 3"
    },
    "language_info": {
      "name": "python"
    }
  },
  "cells": [
    {
      "cell_type": "markdown",
      "metadata": {
        "id": "view-in-github",
        "colab_type": "text"
      },
      "source": [
        "<a href=\"https://colab.research.google.com/github/20210558-cell/Homework_2025/blob/main/95bytes_decode_96bytes.ipynb\" target=\"_parent\"><img src=\"https://colab.research.google.com/assets/colab-badge.svg\" alt=\"Open In Colab\"/></a>"
      ]
    },
    {
      "cell_type": "code",
      "execution_count": null,
      "metadata": {
        "colab": {
          "base_uri": "https://localhost:8080/"
        },
        "id": "qD2RqCuywOAV",
        "outputId": "780dcac6-9f07-495c-cc0b-2154042b74be"
      },
      "outputs": [
        {
          "output_type": "stream",
          "name": "stdout",
          "text": [
            "사랑해요\n"
          ]
        }
      ],
      "source": [
        "bytesData = b'\\xec\\x82\\xac\\xeb\\x9e\\x91\\xed\\x95\\xb4\\xec\\x9a\\x94'\n",
        "strData = bytesData.decode()\n",
        "print(strData)"
      ]
    },
    {
      "cell_type": "code",
      "source": [
        "bytesData = b'\\xbb\\xe7\\xb6\\xfb\\xc7\\xd8\\xbf\\xe4'\n",
        "strData = bytesData.dexode()\n",
        "print(strData)"
      ],
      "metadata": {
        "colab": {
          "base_uri": "https://localhost:8080/",
          "height": 184
        },
        "id": "h0ppey_LwpHk",
        "outputId": "3dcabbcd-fb8e-45cd-a27d-b2fc6fc9e63e"
      },
      "execution_count": null,
      "outputs": [
        {
          "output_type": "error",
          "ename": "AttributeError",
          "evalue": "'bytes' object has no attribute 'dexode'",
          "traceback": [
            "\u001b[0;31m---------------------------------------------------------------------------\u001b[0m",
            "\u001b[0;31mAttributeError\u001b[0m                            Traceback (most recent call last)",
            "\u001b[0;32m/tmp/ipython-input-1176866819.py\u001b[0m in \u001b[0;36m<cell line: 0>\u001b[0;34m()\u001b[0m\n\u001b[1;32m      1\u001b[0m \u001b[0mbytesData\u001b[0m \u001b[0;34m=\u001b[0m \u001b[0;34mb'\\xbb\\xe7\\xb6\\xfb\\xc7\\xd8\\xbf\\xe4'\u001b[0m\u001b[0;34m\u001b[0m\u001b[0;34m\u001b[0m\u001b[0m\n\u001b[0;32m----> 2\u001b[0;31m \u001b[0mstrData\u001b[0m \u001b[0;34m=\u001b[0m \u001b[0mbytesData\u001b[0m\u001b[0;34m.\u001b[0m\u001b[0mdexode\u001b[0m\u001b[0;34m(\u001b[0m\u001b[0;34m)\u001b[0m\u001b[0;34m\u001b[0m\u001b[0;34m\u001b[0m\u001b[0m\n\u001b[0m\u001b[1;32m      3\u001b[0m \u001b[0mprint\u001b[0m\u001b[0;34m(\u001b[0m\u001b[0mstrData\u001b[0m\u001b[0;34m)\u001b[0m\u001b[0;34m\u001b[0m\u001b[0;34m\u001b[0m\u001b[0m\n",
            "\u001b[0;31mAttributeError\u001b[0m: 'bytes' object has no attribute 'dexode'"
          ]
        }
      ]
    },
    {
      "cell_type": "code",
      "source": [
        "bytesData = b'\\xbb\\xe7\\xb6\\xfb\\xc7\\xd8\\xbf\\xe4'\n",
        "strData = bytesData.decode('cp949')\n",
        "print(strData)"
      ],
      "metadata": {
        "colab": {
          "base_uri": "https://localhost:8080/"
        },
        "id": "5sGS9Kx7wzJ2",
        "outputId": "d0eca3fe-8867-475f-f10a-024a8090563a"
      },
      "execution_count": null,
      "outputs": [
        {
          "output_type": "stream",
          "name": "stdout",
          "text": [
            "사랑해요\n"
          ]
        }
      ]
    },
    {
      "cell_type": "code",
      "source": [
        "bytesData = b'abcdef'\n",
        "data = bytesData.replace(b'ab', b'AB')\n",
        "print(data)"
      ],
      "metadata": {
        "colab": {
          "base_uri": "https://localhost:8080/"
        },
        "id": "pBmwO_v1xAHT",
        "outputId": "1df51979-0783-4b64-b1d5-e5fe2a4f38ef"
      },
      "execution_count": null,
      "outputs": [
        {
          "output_type": "stream",
          "name": "stdout",
          "text": [
            "b'ABcdef'\n"
          ]
        }
      ]
    },
    {
      "cell_type": "code",
      "source": [
        "bytesData = b'abcdefabcdef'\n",
        "idx1 = bytesData.find(b'e')\n",
        "idx2 = bytesData.find(b'e', idx1+1)\n",
        "print(idx1, idx2)"
      ],
      "metadata": {
        "colab": {
          "base_uri": "https://localhost:8080/"
        },
        "id": "THX21SdUxIXG",
        "outputId": "ad923aac-892b-4be5-f273-82340afdec74"
      },
      "execution_count": null,
      "outputs": [
        {
          "output_type": "stream",
          "name": "stdout",
          "text": [
            "4 10\n"
          ]
        }
      ]
    },
    {
      "cell_type": "code",
      "source": [
        "bytesData = b'  abcdef  '\n",
        "bytesData = bytesData.strip()\n",
        "print(bytesData)"
      ],
      "metadata": {
        "colab": {
          "base_uri": "https://localhost:8080/"
        },
        "id": "2DqXOSFwxVtW",
        "outputId": "5f48823f-121e-48ab-9b2b-b16e724bfd5f"
      },
      "execution_count": null,
      "outputs": [
        {
          "output_type": "stream",
          "name": "stdout",
          "text": [
            "b'abcdef'\n"
          ]
        }
      ]
    }
  ]
}