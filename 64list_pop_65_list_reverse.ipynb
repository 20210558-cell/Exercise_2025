{
  "nbformat": 4,
  "nbformat_minor": 0,
  "metadata": {
    "colab": {
      "provenance": [],
      "authorship_tag": "ABX9TyOI2RrzlXQpP0yX+UjJdDQi",
      "include_colab_link": true
    },
    "kernelspec": {
      "name": "python3",
      "display_name": "Python 3"
    },
    "language_info": {
      "name": "python"
    }
  },
  "cells": [
    {
      "cell_type": "markdown",
      "metadata": {
        "id": "view-in-github",
        "colab_type": "text"
      },
      "source": [
        "<a href=\"https://colab.research.google.com/github/20210558-cell/Exercise_2025/blob/main/64list_pop_65_list_reverse.ipynb\" target=\"_parent\"><img src=\"https://colab.research.google.com/assets/colab-badge.svg\" alt=\"Open In Colab\"/></a>"
      ]
    },
    {
      "cell_type": "code",
      "execution_count": null,
      "metadata": {
        "colab": {
          "base_uri": "https://localhost:8080/"
        },
        "id": "U4XacK-Hv4Dw",
        "outputId": "92ad48bc-8d31-46ed-98db-27b9ee39e076"
      },
      "outputs": [
        {
          "output_type": "stream",
          "name": "stdout",
          "text": [
            "pop()으로 추출된 값:43, numbers = [14, 5, 18, 45, 10]\n",
            "pop()으로 추출된 값:10, numbers = [14, 5, 18, 45]\n",
            "pop()으로 추출된 값:45, numbers = [14, 5, 18]\n",
            "pop()으로 추출된 값:18, numbers = [14, 5]\n",
            "pop()으로 추출된 값:5, numbers = [14]\n",
            "pop()으로 추출된 값:14, numbers = []\n"
          ]
        }
      ],
      "source": [
        "numbers = [14, 5, 18, 45, 10, 43]\n",
        "for _ in range(len(numbers)):\n",
        "  ret = numbers.pop()\n",
        "  print(f'pop()으로 추출된 값:{ret}, numbers = {numbers}')"
      ]
    },
    {
      "cell_type": "code",
      "source": [
        "numbers = [14, 5, 18, 45, 10, 43]\n",
        "ret = numbers.pop(3)\n",
        "print(f'pop()으로 추출된 값:{ret}, numbers = {numbers}')"
      ],
      "metadata": {
        "colab": {
          "base_uri": "https://localhost:8080/"
        },
        "id": "qu1WWTWcwts2",
        "outputId": "775e1e93-1ec7-45c0-97cc-338f43606f04"
      },
      "execution_count": null,
      "outputs": [
        {
          "output_type": "stream",
          "name": "stdout",
          "text": [
            "pop()으로 추출된 값:45, numbers = [14, 5, 18, 10, 43]\n"
          ]
        }
      ]
    },
    {
      "cell_type": "code",
      "source": [
        "numbers = [1, 2, 3, 4, 5]\n",
        "ret = reversed(numbers)\n",
        "print(list(ret))\n",
        "print(numbers)"
      ],
      "metadata": {
        "colab": {
          "base_uri": "https://localhost:8080/"
        },
        "id": "84VXp0Nzw47K",
        "outputId": "e3625cf2-4862-4fe0-a22b-bb3a3cf462df"
      },
      "execution_count": null,
      "outputs": [
        {
          "output_type": "stream",
          "name": "stdout",
          "text": [
            "[5, 4, 3, 2, 1]\n",
            "[1, 2, 3, 4, 5]\n"
          ]
        }
      ]
    },
    {
      "cell_type": "code",
      "source": [
        "numbers = [1, 2, 3, 4, 5]\n",
        "numbers.reverse()\n",
        "print(numbers)"
      ],
      "metadata": {
        "colab": {
          "base_uri": "https://localhost:8080/"
        },
        "id": "xchwGBB1w_6h",
        "outputId": "51d6f539-74a3-48c8-8016-50fdc6f946ca"
      },
      "execution_count": null,
      "outputs": [
        {
          "output_type": "stream",
          "name": "stdout",
          "text": [
            "[5, 4, 3, 2, 1]\n"
          ]
        }
      ]
    }
  ]
}