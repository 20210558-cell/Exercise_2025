{
  "nbformat": 4,
  "nbformat_minor": 0,
  "metadata": {
    "colab": {
      "provenance": [],
      "authorship_tag": "ABX9TyOwc0WPB6zhx29MsnpvQJxU",
      "include_colab_link": true
    },
    "kernelspec": {
      "name": "python3",
      "display_name": "Python 3"
    },
    "language_info": {
      "name": "python"
    }
  },
  "cells": [
    {
      "cell_type": "markdown",
      "metadata": {
        "id": "view-in-github",
        "colab_type": "text"
      },
      "source": [
        "<a href=\"https://colab.research.google.com/github/20210558-cell/Exercise_2025/blob/main/26int%2C%20float_27complex.ipynb\" target=\"_parent\"><img src=\"https://colab.research.google.com/assets/colab-badge.svg\" alt=\"Open In Colab\"/></a>"
      ]
    },
    {
      "cell_type": "code",
      "execution_count": null,
      "metadata": {
        "id": "iy5Y0YoDUF6b"
      },
      "outputs": [],
      "source": [
        "intData1 = 20   # 10진수 정수로 선언"
      ]
    },
    {
      "cell_type": "code",
      "source": [
        "octData = 0o24    # 정수 20을 8진수로 선언. 0o는 8진수임을 나타냄\n",
        "hexData = 0x14    # 정수 20을 16진수로 선언. 0x는 16진수임을 나타냄"
      ],
      "metadata": {
        "id": "V1EC11C7Uc43"
      },
      "execution_count": null,
      "outputs": []
    },
    {
      "cell_type": "code",
      "source": [
        "fData1 = 1.0\n",
        "fData2 = 2."
      ],
      "metadata": {
        "id": "u8KD0nCgUrxe"
      },
      "execution_count": null,
      "outputs": []
    },
    {
      "cell_type": "code",
      "source": [
        "intData1 = 5\n",
        "intData2 = 10\n",
        "ret = intData2 / intData1\n",
        "print(type(ret))"
      ],
      "metadata": {
        "colab": {
          "base_uri": "https://localhost:8080/"
        },
        "id": "BOXtWhH5U6mY",
        "outputId": "21a48763-6b9a-4b44-d3ea-dc3fc58a2325"
      },
      "execution_count": null,
      "outputs": [
        {
          "output_type": "stream",
          "name": "stdout",
          "text": [
            "<class 'float'>\n"
          ]
        }
      ]
    },
    {
      "cell_type": "code",
      "source": [
        "numData = 2e2   # 200\n",
        "print(type(numData))"
      ],
      "metadata": {
        "colab": {
          "base_uri": "https://localhost:8080/"
        },
        "id": "8hS8M8zVVGQA",
        "outputId": "240240cd-2933-4c0b-8778-b2e089ec3038"
      },
      "execution_count": null,
      "outputs": [
        {
          "output_type": "stream",
          "name": "stdout",
          "text": [
            "<class 'float'>\n"
          ]
        }
      ]
    },
    {
      "cell_type": "code",
      "source": [
        "cData1 = 1 + 1j\n",
        "cData2 = complex(1, 1)\n",
        "print(cData1 == cData2)"
      ],
      "metadata": {
        "colab": {
          "base_uri": "https://localhost:8080/"
        },
        "id": "BcCeagNRVY4M",
        "outputId": "96060069-8497-482f-d2b9-0c0c2c2c438a"
      },
      "execution_count": null,
      "outputs": [
        {
          "output_type": "stream",
          "name": "stdout",
          "text": [
            "True\n"
          ]
        }
      ]
    },
    {
      "cell_type": "code",
      "source": [
        "print(cData1.real)\n",
        "print(cData2.imag)"
      ],
      "metadata": {
        "colab": {
          "base_uri": "https://localhost:8080/"
        },
        "id": "ZpiZpKU3Viec",
        "outputId": "91d12315-2f9c-420f-b140-edbf982e2d20"
      },
      "execution_count": null,
      "outputs": [
        {
          "output_type": "stream",
          "name": "stdout",
          "text": [
            "1.0\n",
            "1.0\n"
          ]
        }
      ]
    },
    {
      "cell_type": "code",
      "source": [
        "complexData1 = 1 - 5j\n",
        "complexData2 = complex(2, 3)\n",
        "print(complexData1.conjugate())\n",
        "print(complexData2.conjugate())"
      ],
      "metadata": {
        "colab": {
          "base_uri": "https://localhost:8080/"
        },
        "id": "EPVi0dnYVqKB",
        "outputId": "82b9e914-0aaa-450f-bafe-fd0f07a14a2f"
      },
      "execution_count": null,
      "outputs": [
        {
          "output_type": "stream",
          "name": "stdout",
          "text": [
            "(1+5j)\n",
            "(2-3j)\n"
          ]
        }
      ]
    }
  ]
}