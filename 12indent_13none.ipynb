{
  "nbformat": 4,
  "nbformat_minor": 0,
  "metadata": {
    "colab": {
      "provenance": [],
      "authorship_tag": "ABX9TyOhGUBKxU5omSjm8GfIszz1",
      "include_colab_link": true
    },
    "kernelspec": {
      "name": "python3",
      "display_name": "Python 3"
    },
    "language_info": {
      "name": "python"
    }
  },
  "cells": [
    {
      "cell_type": "markdown",
      "metadata": {
        "id": "view-in-github",
        "colab_type": "text"
      },
      "source": [
        "<a href=\"https://colab.research.google.com/github/20210558-cell/Exercise_2025/blob/main/12indent_13none.ipynb\" target=\"_parent\"><img src=\"https://colab.research.google.com/assets/colab-badge.svg\" alt=\"Open In Colab\"/></a>"
      ]
    },
    {
      "cell_type": "code",
      "execution_count": null,
      "metadata": {
        "colab": {
          "base_uri": "https://localhost:8080/"
        },
        "id": "p-ykCag1jase",
        "outputId": "888613b4-f0b5-48c5-c833-54c5e392aba1"
      },
      "outputs": [
        {
          "output_type": "stream",
          "name": "stdout",
          "text": [
            "\"a\"가 listData에 요소로 존재합니다.\n"
          ]
        }
      ],
      "source": [
        "listData = ['a', 'b', 'c']\n",
        "if 'a' in listData:\n",
        "  print('\"a\"가 listData에 요소로 존재합니다.')\n",
        "else:\n",
        "  print('\"a\"가 listData에 요소로 존재하지 않습니다.')"
      ]
    },
    {
      "cell_type": "code",
      "source": [
        "listData = ['a', 'b', 'c']\n",
        "if 'a' in listData: print('\"a\"가 listData에 요소로 존재합니다.')"
      ],
      "metadata": {
        "colab": {
          "base_uri": "https://localhost:8080/"
        },
        "id": "QsK2q0LEkKSZ",
        "outputId": "55cd5989-a67d-449b-e72a-a0fadcbfe782"
      },
      "execution_count": null,
      "outputs": [
        {
          "output_type": "stream",
          "name": "stdout",
          "text": [
            "\"a\"가 listData에 요소로 존재합니다.\n"
          ]
        }
      ]
    },
    {
      "cell_type": "code",
      "source": [
        "  listData = ['a', 'b', 'c']\n",
        "if 'a' in listData:\n",
        "  print('\"a\"가 listData에 요소로 존재합니다.')\n",
        "else:\n",
        "  print('\"a\"가 listData에 요소로 존재하지 않습니다.')"
      ],
      "metadata": {
        "colab": {
          "base_uri": "https://localhost:8080/",
          "height": 110
        },
        "id": "1eIAg1GwkXc7",
        "outputId": "d3ebee88-fd93-4725-9328-820c400eb114"
      },
      "execution_count": null,
      "outputs": [
        {
          "output_type": "error",
          "ename": "IndentationError",
          "evalue": "expected an indented block after 'if' statement on line 2 (ipython-input-1104417626.py, line 3)",
          "traceback": [
            "\u001b[0;36m  File \u001b[0;32m\"/tmp/ipython-input-1104417626.py\"\u001b[0;36m, line \u001b[0;32m3\u001b[0m\n\u001b[0;31m    print('\"a\"가 listData에 요소로 존재합니다.')\u001b[0m\n\u001b[0m    ^\u001b[0m\n\u001b[0;31mIndentationError\u001b[0m\u001b[0;31m:\u001b[0m expected an indented block after 'if' statement on line 2\n"
          ]
        }
      ]
    },
    {
      "cell_type": "code",
      "source": [
        "listData = ['a', 'b', 'c']\n",
        "if 'a' in listData:\n",
        "  print('\"a\"가 listData에 요소로 존재합니다.')\n",
        "    print('프로그램을 종료합니다.')\n",
        "else:\n",
        "  print('\"a\"가 listData에 요소로 존재하지 않습니다.')"
      ],
      "metadata": {
        "colab": {
          "base_uri": "https://localhost:8080/",
          "height": 110
        },
        "id": "iG78_9Dsk60H",
        "outputId": "863dbc57-afd6-4ca1-fd12-4a865590d505"
      },
      "execution_count": null,
      "outputs": [
        {
          "output_type": "error",
          "ename": "IndentationError",
          "evalue": "unexpected indent (ipython-input-1036955613.py, line 4)",
          "traceback": [
            "\u001b[0;36m  File \u001b[0;32m\"/tmp/ipython-input-1036955613.py\"\u001b[0;36m, line \u001b[0;32m4\u001b[0m\n\u001b[0;31m    print('프로그램을 종료합니다.')\u001b[0m\n\u001b[0m    ^\u001b[0m\n\u001b[0;31mIndentationError\u001b[0m\u001b[0;31m:\u001b[0m unexpected indent\n"
          ]
        }
      ]
    },
    {
      "cell_type": "code",
      "source": [
        "val = None\n",
        "flag = True\n",
        "if flag:\n",
        "  val = [1, 2, 3, 4, 5]\n",
        "else:\n",
        "  val = '안녕하세요 파이썬!'"
      ],
      "metadata": {
        "id": "WaxtTzwVlVIY"
      },
      "execution_count": null,
      "outputs": []
    }
  ]
}