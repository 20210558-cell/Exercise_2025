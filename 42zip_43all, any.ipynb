{
  "nbformat": 4,
  "nbformat_minor": 0,
  "metadata": {
    "colab": {
      "provenance": [],
      "authorship_tag": "ABX9TyP8zNqCgaCV8uu/CfDNRITl",
      "include_colab_link": true
    },
    "kernelspec": {
      "name": "python3",
      "display_name": "Python 3"
    },
    "language_info": {
      "name": "python"
    }
  },
  "cells": [
    {
      "cell_type": "markdown",
      "metadata": {
        "id": "view-in-github",
        "colab_type": "text"
      },
      "source": [
        "<a href=\"https://colab.research.google.com/github/20210558-cell/Exercise_2025/blob/main/42zip_43all%2C%20any.ipynb\" target=\"_parent\"><img src=\"https://colab.research.google.com/assets/colab-badge.svg\" alt=\"Open In Colab\"/></a>"
      ]
    },
    {
      "cell_type": "code",
      "execution_count": null,
      "metadata": {
        "colab": {
          "base_uri": "https://localhost:8080/"
        },
        "id": "eO5pJbdor3CN",
        "outputId": "a5400eb6-c873-471f-dc4b-97a250d2cacb"
      },
      "outputs": [
        {
          "output_type": "stream",
          "name": "stdout",
          "text": [
            "('슈퍼맨', '원더우먼')\n",
            "('심봉사', '빵덕어멈')\n",
            "('로미오', '줄리엣')\n",
            "('이몽룡', '성춘향')\n",
            "('마루치', '아라치')\n"
          ]
        }
      ],
      "source": [
        "male = ['슈퍼맨', '심봉사', '로미오', '이몽룡', '마루치']\n",
        "female = ['원더우먼', '빵덕어멈', '줄리엣', '성춘향', '아라치']\n",
        "couples = zip(male, female)\n",
        "for couple in couples:\n",
        "  print(couple)"
      ]
    },
    {
      "cell_type": "code",
      "source": [
        "male = ['슈퍼맨', '심봉사', '로미오']\n",
        "female = ['원더우먼', '뺑덕어멈', '줄리엣', '성춘향', '아라치']\n",
        "for couple in zip(male, female):\n",
        "  print(couple)"
      ],
      "metadata": {
        "colab": {
          "base_uri": "https://localhost:8080/"
        },
        "id": "Sess2pqesUCo",
        "outputId": "5c224ef9-6ac5-45b2-94f3-9892f11a45de"
      },
      "execution_count": null,
      "outputs": [
        {
          "output_type": "stream",
          "name": "stdout",
          "text": [
            "('슈퍼맨', '원더우먼')\n",
            "('심봉사', '뺑덕어멈')\n",
            "('로미오', '줄리엣')\n"
          ]
        }
      ]
    },
    {
      "cell_type": "code",
      "source": [
        "male = ['슈퍼맨', '심봉사', '로미오']\n",
        "female = ['원더우먼', '뺑덕어멈', '줄리엣', '성춘향', '아라치']\n",
        "for couple in zip(male, female, strict=True):\n",
        "  print(couple)"
      ],
      "metadata": {
        "colab": {
          "base_uri": "https://localhost:8080/",
          "height": 261
        },
        "id": "4uZmVbDZsht0",
        "outputId": "afe0b522-4678-4938-db3a-cdbd5343de56"
      },
      "execution_count": null,
      "outputs": [
        {
          "output_type": "stream",
          "name": "stdout",
          "text": [
            "('슈퍼맨', '원더우먼')\n",
            "('심봉사', '뺑덕어멈')\n",
            "('로미오', '줄리엣')\n"
          ]
        },
        {
          "output_type": "error",
          "ename": "ValueError",
          "evalue": "zip() argument 2 is longer than argument 1",
          "traceback": [
            "\u001b[0;31m---------------------------------------------------------------------------\u001b[0m",
            "\u001b[0;31mValueError\u001b[0m                                Traceback (most recent call last)",
            "\u001b[0;32m/tmp/ipython-input-3754327563.py\u001b[0m in \u001b[0;36m<cell line: 0>\u001b[0;34m()\u001b[0m\n\u001b[1;32m      1\u001b[0m \u001b[0mmale\u001b[0m \u001b[0;34m=\u001b[0m \u001b[0;34m[\u001b[0m\u001b[0;34m'슈퍼맨'\u001b[0m\u001b[0;34m,\u001b[0m \u001b[0;34m'심봉사'\u001b[0m\u001b[0;34m,\u001b[0m \u001b[0;34m'로미오'\u001b[0m\u001b[0;34m]\u001b[0m\u001b[0;34m\u001b[0m\u001b[0;34m\u001b[0m\u001b[0m\n\u001b[1;32m      2\u001b[0m \u001b[0mfemale\u001b[0m \u001b[0;34m=\u001b[0m \u001b[0;34m[\u001b[0m\u001b[0;34m'원더우먼'\u001b[0m\u001b[0;34m,\u001b[0m \u001b[0;34m'뺑덕어멈'\u001b[0m\u001b[0;34m,\u001b[0m \u001b[0;34m'줄리엣'\u001b[0m\u001b[0;34m,\u001b[0m \u001b[0;34m'성춘향'\u001b[0m\u001b[0;34m,\u001b[0m \u001b[0;34m'아라치'\u001b[0m\u001b[0;34m]\u001b[0m\u001b[0;34m\u001b[0m\u001b[0;34m\u001b[0m\u001b[0m\n\u001b[0;32m----> 3\u001b[0;31m \u001b[0;32mfor\u001b[0m \u001b[0mcouple\u001b[0m \u001b[0;32min\u001b[0m \u001b[0mzip\u001b[0m\u001b[0;34m(\u001b[0m\u001b[0mmale\u001b[0m\u001b[0;34m,\u001b[0m \u001b[0mfemale\u001b[0m\u001b[0;34m,\u001b[0m \u001b[0mstrict\u001b[0m\u001b[0;34m=\u001b[0m\u001b[0;32mTrue\u001b[0m\u001b[0;34m)\u001b[0m\u001b[0;34m:\u001b[0m\u001b[0;34m\u001b[0m\u001b[0;34m\u001b[0m\u001b[0m\n\u001b[0m\u001b[1;32m      4\u001b[0m   \u001b[0mprint\u001b[0m\u001b[0;34m(\u001b[0m\u001b[0mcouple\u001b[0m\u001b[0;34m)\u001b[0m\u001b[0;34m\u001b[0m\u001b[0;34m\u001b[0m\u001b[0m\n",
            "\u001b[0;31mValueError\u001b[0m: zip() argument 2 is longer than argument 1"
          ]
        }
      ]
    },
    {
      "cell_type": "code",
      "source": [
        "listData = [0, 1, 2, 3, 4]\n",
        "print(all(listData))\n",
        "print(any(listData))"
      ],
      "metadata": {
        "colab": {
          "base_uri": "https://localhost:8080/"
        },
        "id": "1--HyevDsw_K",
        "outputId": "0e4c8af3-6129-4484-da2a-42a21dd41c7a"
      },
      "execution_count": null,
      "outputs": [
        {
          "output_type": "stream",
          "name": "stdout",
          "text": [
            "False\n",
            "True\n"
          ]
        }
      ]
    },
    {
      "cell_type": "code",
      "source": [
        "tupleData = (0, False, '', [], (), {}, None)\n",
        "print(all(tupleData))\n",
        "print(any(tupleData))"
      ],
      "metadata": {
        "colab": {
          "base_uri": "https://localhost:8080/"
        },
        "id": "7-VDXdSls3Nq",
        "outputId": "8b6490ed-ffeb-41a0-8f2f-6869f0ebf8cf"
      },
      "execution_count": null,
      "outputs": [
        {
          "output_type": "stream",
          "name": "stdout",
          "text": [
            "False\n",
            "False\n"
          ]
        }
      ]
    }
  ]
}