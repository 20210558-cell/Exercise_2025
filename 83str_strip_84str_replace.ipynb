{
  "nbformat": 4,
  "nbformat_minor": 0,
  "metadata": {
    "colab": {
      "provenance": [],
      "authorship_tag": "ABX9TyO/uTkoXgWhylPc97LxeCLE",
      "include_colab_link": true
    },
    "kernelspec": {
      "name": "python3",
      "display_name": "Python 3"
    },
    "language_info": {
      "name": "python"
    }
  },
  "cells": [
    {
      "cell_type": "markdown",
      "metadata": {
        "id": "view-in-github",
        "colab_type": "text"
      },
      "source": [
        "<a href=\"https://colab.research.google.com/github/20210558-cell/Homework_2025/blob/main/83str_strip_84str_replace.ipynb\" target=\"_parent\"><img src=\"https://colab.research.google.com/assets/colab-badge.svg\" alt=\"Open In Colab\"/></a>"
      ]
    },
    {
      "cell_type": "code",
      "execution_count": null,
      "metadata": {
        "colab": {
          "base_uri": "https://localhost:8080/"
        },
        "id": "wES8jKdAyt8G",
        "outputId": "f4f709a2-2744-437e-9d2c-71db9da0a4e8"
      },
      "outputs": [
        {
          "output_type": "stream",
          "name": "stdout",
          "text": [
            "<이 문장의 양쪽에는 공백이 있습니다.>\n",
            "<이 문장의 양쪽에는 공백이 있습니다. >\n",
            "< 이 문장의 양쪽에는 공백이 있습니다.>\n"
          ]
        }
      ],
      "source": [
        "text = ' 이 문장의 양쪽에는 공백이 있습니다. '\n",
        "print(f'<{text.strip()}>')\n",
        "print(f'<{text.lstrip()}>')\n",
        "print(f'<{text.rstrip()}>')"
      ]
    },
    {
      "cell_type": "code",
      "source": [
        "url = 'www.python.com'\n",
        "print(url.strip('cmow.'))"
      ],
      "metadata": {
        "colab": {
          "base_uri": "https://localhost:8080/"
        },
        "id": "nCmTjpm0zXkN",
        "outputId": "17e25225-528b-464a-d811-adb56bb5ec02"
      },
      "execution_count": null,
      "outputs": [
        {
          "output_type": "stream",
          "name": "stdout",
          "text": [
            "python\n"
          ]
        }
      ]
    },
    {
      "cell_type": "code",
      "source": [
        "print(url.lstrip('cmow.'))\n",
        "print(url.rstrip('cmow.'))"
      ],
      "metadata": {
        "colab": {
          "base_uri": "https://localhost:8080/"
        },
        "id": "iD5PrjRxzcdJ",
        "outputId": "ec9dc425-f63f-4b84-85fd-3f2b992c8bc7"
      },
      "execution_count": null,
      "outputs": [
        {
          "output_type": "stream",
          "name": "stdout",
          "text": [
            "python.com\n",
            "www.python\n"
          ]
        }
      ]
    },
    {
      "cell_type": "code",
      "source": [
        "text = '문자열:파이썬에서 시퀸스 자료 중 하나임'\n",
        "ret = text.replace('문자열', '텍스트')\n",
        "print(ret)"
      ],
      "metadata": {
        "colab": {
          "base_uri": "https://localhost:8080/"
        },
        "id": "Z7jc-JB7z2PY",
        "outputId": "d3f6c3af-a25f-422f-f476-2803cd40fef9"
      },
      "execution_count": null,
      "outputs": [
        {
          "output_type": "stream",
          "name": "stdout",
          "text": [
            "텍스트:파이썬에서 시퀸스 자료 중 하나임\n"
          ]
        }
      ]
    },
    {
      "cell_type": "code",
      "source": [
        "text = '매일 많은 일들이 일어납니다.'\n",
        "ret = text.replace('일', '사건')\n",
        "print(ret)"
      ],
      "metadata": {
        "colab": {
          "base_uri": "https://localhost:8080/"
        },
        "id": "z8i93ihE0BGg",
        "outputId": "f946e9be-895c-431b-b640-db38eb467064"
      },
      "execution_count": null,
      "outputs": [
        {
          "output_type": "stream",
          "name": "stdout",
          "text": [
            "매사건 많은 사건들이 사건어납니다.\n"
          ]
        }
      ]
    }
  ]
}