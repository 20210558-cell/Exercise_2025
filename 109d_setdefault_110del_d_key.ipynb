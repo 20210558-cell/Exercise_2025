{
  "nbformat": 4,
  "nbformat_minor": 0,
  "metadata": {
    "colab": {
      "provenance": [],
      "authorship_tag": "ABX9TyN/hefkJjT4XD28offahcrI",
      "include_colab_link": true
    },
    "kernelspec": {
      "name": "python3",
      "display_name": "Python 3"
    },
    "language_info": {
      "name": "python"
    }
  },
  "cells": [
    {
      "cell_type": "markdown",
      "metadata": {
        "id": "view-in-github",
        "colab_type": "text"
      },
      "source": [
        "<a href=\"https://colab.research.google.com/github/20210558-cell/Homework_2025/blob/main/109d_setdefault_110del_d_key.ipynb\" target=\"_parent\"><img src=\"https://colab.research.google.com/assets/colab-badge.svg\" alt=\"Open In Colab\"/></a>"
      ]
    },
    {
      "cell_type": "code",
      "execution_count": null,
      "metadata": {
        "colab": {
          "base_uri": "https://localhost:8080/"
        },
        "id": "2kEToHNKcsSC",
        "outputId": "73d20105-b1ac-4412-d126-0ba87ae1e324"
      },
      "outputs": [
        {
          "output_type": "stream",
          "name": "stdout",
          "text": [
            "names: {'Maty': 10999, 'Ceis': 2111, 'Aimy': 9778, 'Sams': None}\n",
            "population: None\n"
          ]
        }
      ],
      "source": [
        "names = {'Maty':10999, 'Ceis':2111, 'Aimy':9778}\n",
        "population = names.setdefault('Sams')\n",
        "print(f'names: {names}\\npopulation: {population}')"
      ]
    },
    {
      "cell_type": "code",
      "source": [
        "population = names.setdefault('Sams', 100)\n",
        "print(f'names: {names}\\npopulation: {population}')"
      ],
      "metadata": {
        "colab": {
          "base_uri": "https://localhost:8080/"
        },
        "id": "TmyFDk3FdHzZ",
        "outputId": "0234c6e5-64b6-42f6-f5d6-52608e76b089"
      },
      "execution_count": null,
      "outputs": [
        {
          "output_type": "stream",
          "name": "stdout",
          "text": [
            "names: {'Maty': 10999, 'Ceis': 2111, 'Aimy': 9778, 'Sams': None}\n",
            "population: None\n"
          ]
        }
      ]
    },
    {
      "cell_type": "code",
      "source": [
        "population = names.setdefault('Tom', 1004)\n",
        "print(f'names: {names}\\npopulation: {population}')"
      ],
      "metadata": {
        "colab": {
          "base_uri": "https://localhost:8080/"
        },
        "id": "zmLTicfEdQ6I",
        "outputId": "9d1988fb-2da5-437e-8cdd-29fb1f8d9258"
      },
      "execution_count": null,
      "outputs": [
        {
          "output_type": "stream",
          "name": "stdout",
          "text": [
            "names: {'Maty': 10999, 'Ceis': 2111, 'Aimy': 9778, 'Sams': None, 'Tom': 1004}\n",
            "population: 1004\n"
          ]
        }
      ]
    },
    {
      "cell_type": "code",
      "source": [
        "names = {'Mary':10999, 'Ceis':2111, 'Aimy':9778, 'Tom':20245}\n",
        "del names['Mary']\n",
        "print(names)"
      ],
      "metadata": {
        "colab": {
          "base_uri": "https://localhost:8080/"
        },
        "id": "9XXBG2T-daEm",
        "outputId": "3eb7e250-9e1b-4087-8e61-aa7b9e038f75"
      },
      "execution_count": null,
      "outputs": [
        {
          "output_type": "stream",
          "name": "stdout",
          "text": [
            "{'Ceis': 2111, 'Aimy': 9778, 'Tom': 20245}\n"
          ]
        }
      ]
    },
    {
      "cell_type": "code",
      "source": [
        "del names['Sams']"
      ],
      "metadata": {
        "colab": {
          "base_uri": "https://localhost:8080/",
          "height": 147
        },
        "id": "NCDozCXqdjGD",
        "outputId": "79063d7e-e590-4233-f152-c41c4a05effb"
      },
      "execution_count": null,
      "outputs": [
        {
          "output_type": "error",
          "ename": "KeyError",
          "evalue": "'Sams'",
          "traceback": [
            "\u001b[0;31m---------------------------------------------------------------------------\u001b[0m",
            "\u001b[0;31mKeyError\u001b[0m                                  Traceback (most recent call last)",
            "\u001b[0;32m/tmp/ipython-input-3085454307.py\u001b[0m in \u001b[0;36m<cell line: 0>\u001b[0;34m()\u001b[0m\n\u001b[0;32m----> 1\u001b[0;31m \u001b[0;32mdel\u001b[0m \u001b[0mnames\u001b[0m\u001b[0;34m[\u001b[0m\u001b[0;34m'Sams'\u001b[0m\u001b[0;34m]\u001b[0m\u001b[0;34m\u001b[0m\u001b[0;34m\u001b[0m\u001b[0m\n\u001b[0m",
            "\u001b[0;31mKeyError\u001b[0m: 'Sams'"
          ]
        }
      ]
    }
  ]
}