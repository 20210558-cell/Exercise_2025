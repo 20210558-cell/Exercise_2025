{
  "nbformat": 4,
  "nbformat_minor": 0,
  "metadata": {
    "colab": {
      "provenance": [],
      "authorship_tag": "ABX9TyPuSqgfwL8xix1ayFVz6uxQ",
      "include_colab_link": true
    },
    "kernelspec": {
      "name": "python3",
      "display_name": "Python 3"
    },
    "language_info": {
      "name": "python"
    }
  },
  "cells": [
    {
      "cell_type": "markdown",
      "metadata": {
        "id": "view-in-github",
        "colab_type": "text"
      },
      "source": [
        "<a href=\"https://colab.research.google.com/github/20210558-cell/Homework_2025/blob/main/85str_zfill_86format.ipynb\" target=\"_parent\"><img src=\"https://colab.research.google.com/assets/colab-badge.svg\" alt=\"Open In Colab\"/></a>"
      ]
    },
    {
      "cell_type": "code",
      "execution_count": null,
      "metadata": {
        "colab": {
          "base_uri": "https://localhost:8080/"
        },
        "id": "uC-veAcZ8Gh3",
        "outputId": "0f7179eb-f0a7-4ea6-e663-d85b67b0f511"
      },
      "outputs": [
        {
          "output_type": "stream",
          "name": "stdout",
          "text": [
            "0005\n",
            "0027\n",
            "0342\n",
            "1004\n"
          ]
        }
      ],
      "source": [
        "numData = ['5', '27', '342', '1004']\n",
        "for numstr in numData:\n",
        "  ret = numstr.zfill(4)\n",
        "  print(ret)"
      ]
    },
    {
      "cell_type": "code",
      "source": [
        "numData = ['-5', '-27', '-342', '-1004']\n",
        "for numstr in numData:\n",
        "  ret = numstr.zfill(4)\n",
        "  print(ret)"
      ],
      "metadata": {
        "colab": {
          "base_uri": "https://localhost:8080/"
        },
        "id": "Bmmd1Jkm8dHo",
        "outputId": "464a3076-24a7-496c-e6a2-2142a6ab37bc"
      },
      "execution_count": null,
      "outputs": [
        {
          "output_type": "stream",
          "name": "stdout",
          "text": [
            "-005\n",
            "-027\n",
            "-342\n",
            "-1004\n"
          ]
        }
      ]
    },
    {
      "cell_type": "code",
      "source": [
        "names = ['유비', '관우', '장비', '조운', '제갈량']\n",
        "for idx, name in enumerate(names, start=1):\n",
        "  order = format(idx, '03')\n",
        "  print(f'{order}-{name}')"
      ],
      "metadata": {
        "colab": {
          "base_uri": "https://localhost:8080/"
        },
        "id": "gKXZWXn18p86",
        "outputId": "a9723680-276a-49da-a8c2-38724d2b3912"
      },
      "execution_count": null,
      "outputs": [
        {
          "output_type": "stream",
          "name": "stdout",
          "text": [
            "001-유비\n",
            "002-관우\n",
            "003-장비\n",
            "004-조운\n",
            "005-제갈량\n"
          ]
        }
      ]
    }
  ]
}