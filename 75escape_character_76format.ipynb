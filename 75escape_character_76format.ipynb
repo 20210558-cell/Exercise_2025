{
  "nbformat": 4,
  "nbformat_minor": 0,
  "metadata": {
    "colab": {
      "provenance": [],
      "authorship_tag": "ABX9TyOGn2tZNGfTy01/LhptGz8d",
      "include_colab_link": true
    },
    "kernelspec": {
      "name": "python3",
      "display_name": "Python 3"
    },
    "language_info": {
      "name": "python"
    }
  },
  "cells": [
    {
      "cell_type": "markdown",
      "metadata": {
        "id": "view-in-github",
        "colab_type": "text"
      },
      "source": [
        "<a href=\"https://colab.research.google.com/github/20210558-cell/Exercise_2025/blob/main/75escape_character_76format.ipynb\" target=\"_parent\"><img src=\"https://colab.research.google.com/assets/colab-badge.svg\" alt=\"Open In Colab\"/></a>"
      ]
    },
    {
      "cell_type": "code",
      "execution_count": null,
      "metadata": {
        "colab": {
          "base_uri": "https://localhost:8080/"
        },
        "id": "gJWe8703DlNB",
        "outputId": "cfc90a39-01f8-4a21-9004-79107c2126f9"
      },
      "outputs": [
        {
          "output_type": "stream",
          "name": "stdout",
          "text": [
            "파이썬은 자바보다 쉽습니다.\n",
            "그래서 나는 파이썬을 사랑합니다.\n"
          ]
        }
      ],
      "source": [
        "print('파이썬은 자바보다 쉽습니다.\\n그래서 나는 파이썬을 사랑합니다.')"
      ]
    },
    {
      "cell_type": "code",
      "source": [
        "text = '파이썬은 자바보다 쉽습니다.\\\n",
        "그래서 나는 파이썬을 사랑합니다.'\n",
        "print(text)"
      ],
      "metadata": {
        "colab": {
          "base_uri": "https://localhost:8080/"
        },
        "id": "sgAtj4blD8Xh",
        "outputId": "ed36fb57-e9e2-4bae-a9a1-52d1518c4e49"
      },
      "execution_count": null,
      "outputs": [
        {
          "output_type": "stream",
          "name": "stdout",
          "text": [
            "파이썬은 자바보다 쉽습니다.그래서 나는 파이썬을 사랑합니다.\n"
          ]
        }
      ]
    },
    {
      "cell_type": "code",
      "source": [
        "print('이스케이프 문자 \"\\\\t\"는 탭을 의미합니다.')"
      ],
      "metadata": {
        "colab": {
          "base_uri": "https://localhost:8080/"
        },
        "id": "xiOQkU-4ERv4",
        "outputId": "33b65cef-2f4a-4971-9388-939c82ff3a3d"
      },
      "execution_count": null,
      "outputs": [
        {
          "output_type": "stream",
          "name": "stdout",
          "text": [
            "이스케이프 문자 \"\\t\"는 탭을 의미합니다.\n"
          ]
        }
      ]
    },
    {
      "cell_type": "code",
      "source": [
        "print('\\'파이썬\\'은 뱀의 한 종류입니다.')"
      ],
      "metadata": {
        "colab": {
          "base_uri": "https://localhost:8080/"
        },
        "id": "GV0ilfTyEZ3_",
        "outputId": "4ed3c740-a4bc-429f-d4cb-9917f88184b1"
      },
      "execution_count": null,
      "outputs": [
        {
          "output_type": "stream",
          "name": "stdout",
          "text": [
            "'파이썬'은 뱀의 한 종류입니다.\n"
          ]
        }
      ]
    },
    {
      "cell_type": "code",
      "source": [
        "title = '원주율'\n",
        "pi = 3.141592\n",
        "print(f'{title}의 근사값은 {pi} 입니다.')"
      ],
      "metadata": {
        "colab": {
          "base_uri": "https://localhost:8080/"
        },
        "id": "TYi_qJQREiLy",
        "outputId": "603c393f-db15-4037-d5d8-15cc4b05b85f"
      },
      "execution_count": null,
      "outputs": [
        {
          "output_type": "stream",
          "name": "stdout",
          "text": [
            "원주율의 근사값은 3.141592 입니다.\n"
          ]
        }
      ]
    },
    {
      "cell_type": "code",
      "source": [
        "print(f'{title}의 근사값은 {pi:.2f} 입니다.')"
      ],
      "metadata": {
        "colab": {
          "base_uri": "https://localhost:8080/"
        },
        "id": "01Ct9MRwEzEF",
        "outputId": "8cb0e8fd-e90a-49a8-8b3d-5fdd0604136e"
      },
      "execution_count": null,
      "outputs": [
        {
          "output_type": "stream",
          "name": "stdout",
          "text": [
            "원주율의 근사값은 3.14 입니다.\n"
          ]
        }
      ]
    },
    {
      "cell_type": "code",
      "source": [
        "city = '서울'\n",
        "population = 8789911\n",
        "print(f'{city}: {population:,d} 명')"
      ],
      "metadata": {
        "colab": {
          "base_uri": "https://localhost:8080/"
        },
        "id": "E0HrvzyZE_Cl",
        "outputId": "2131ade7-4a59-486c-b3c0-00da237ef2d8"
      },
      "execution_count": null,
      "outputs": [
        {
          "output_type": "stream",
          "name": "stdout",
          "text": [
            "서울: 8,789,911 명\n"
          ]
        }
      ]
    },
    {
      "cell_type": "code",
      "source": [
        "print(f'{city}: {population=:,d} 명')"
      ],
      "metadata": {
        "colab": {
          "base_uri": "https://localhost:8080/"
        },
        "id": "D-LTiZQqFMGd",
        "outputId": "2974999d-3faa-4952-bf65-072b4afcf3bf"
      },
      "execution_count": null,
      "outputs": [
        {
          "output_type": "stream",
          "name": "stdout",
          "text": [
            "서울: population=8,789,911 명\n"
          ]
        }
      ]
    }
  ]
}