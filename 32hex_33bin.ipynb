{
  "nbformat": 4,
  "nbformat_minor": 0,
  "metadata": {
    "colab": {
      "provenance": [],
      "authorship_tag": "ABX9TyPTQ2/lJBYMpRMSPaA0b8SQ",
      "include_colab_link": true
    },
    "kernelspec": {
      "name": "python3",
      "display_name": "Python 3"
    },
    "language_info": {
      "name": "python"
    }
  },
  "cells": [
    {
      "cell_type": "markdown",
      "metadata": {
        "id": "view-in-github",
        "colab_type": "text"
      },
      "source": [
        "<a href=\"https://colab.research.google.com/github/20210558-cell/Exercise_2025/blob/main/32hex_33bin.ipynb\" target=\"_parent\"><img src=\"https://colab.research.google.com/assets/colab-badge.svg\" alt=\"Open In Colab\"/></a>"
      ]
    },
    {
      "cell_type": "code",
      "execution_count": null,
      "metadata": {
        "colab": {
          "base_uri": "https://localhost:8080/"
        },
        "id": "GkkhxMWL94Yn",
        "outputId": "f28b72e8-ef32-4e3a-bfea-18e4158f7860"
      },
      "outputs": [
        {
          "output_type": "stream",
          "name": "stdout",
          "text": [
            "0x61\n",
            "0x62\n"
          ]
        }
      ],
      "source": [
        "h1 = hex(97)\n",
        "h2 = hex(98)\n",
        "print(h1)\n",
        "print(h2)"
      ]
    },
    {
      "cell_type": "code",
      "source": [
        "print(h1 + h2)"
      ],
      "metadata": {
        "colab": {
          "base_uri": "https://localhost:8080/"
        },
        "id": "e52BVo0h-IvV",
        "outputId": "8aef7025-ba7d-4668-8d27-5f85a813771c"
      },
      "execution_count": null,
      "outputs": [
        {
          "output_type": "stream",
          "name": "stdout",
          "text": [
            "0x610x62\n"
          ]
        }
      ]
    },
    {
      "cell_type": "code",
      "source": [
        "hexStr1 = '0x11'\n",
        "hexStr2 = '0x2a'\n",
        "int1 = int(hexStr1, base=16)\n",
        "int2 = int(hexStr2, base=16)\n",
        "hexAnswer = hex(int1 + int2)\n",
        "print(f'{hexStr1} + {hexStr2} = {hexAnswer}')"
      ],
      "metadata": {
        "colab": {
          "base_uri": "https://localhost:8080/"
        },
        "id": "C23Nf5hs-LGz",
        "outputId": "c90348af-eecb-4d4a-c64e-b978beedb500"
      },
      "execution_count": null,
      "outputs": [
        {
          "output_type": "stream",
          "name": "stdout",
          "text": [
            "0x11 + 0x2a = 0x3b\n"
          ]
        }
      ]
    },
    {
      "cell_type": "code",
      "source": [
        "b1 = bin(97)\n",
        "b2 = bin(98)\n",
        "print(b1)\n",
        "print(b2)"
      ],
      "metadata": {
        "colab": {
          "base_uri": "https://localhost:8080/"
        },
        "id": "ncXj6iCL-iQJ",
        "outputId": "0f42aaad-08c1-4754-e083-ac208b3ae4d0"
      },
      "execution_count": null,
      "outputs": [
        {
          "output_type": "stream",
          "name": "stdout",
          "text": [
            "0b1100001\n",
            "0b1100010\n"
          ]
        }
      ]
    },
    {
      "cell_type": "code",
      "source": [
        "print(b1 + b2)"
      ],
      "metadata": {
        "colab": {
          "base_uri": "https://localhost:8080/"
        },
        "id": "_I9AVKew-sIp",
        "outputId": "2ab3c7fd-3b52-43c5-d545-1a2db39af223"
      },
      "execution_count": null,
      "outputs": [
        {
          "output_type": "stream",
          "name": "stdout",
          "text": [
            "0b11000010b1100010\n"
          ]
        }
      ]
    },
    {
      "cell_type": "code",
      "source": [
        "binStr1 = '0b1011'\n",
        "binStr2 = '0b1001'\n",
        "int1 = int(binStr1, base=2)\n",
        "int2 = int(binStr2, base=2)\n",
        "binAnswer = bin(int1 + int2)\n",
        "print(f'{binStr1} + {binStr2} = {binAnswer}')"
      ],
      "metadata": {
        "colab": {
          "base_uri": "https://localhost:8080/"
        },
        "id": "R3g9viNV-tvw",
        "outputId": "34af6e6b-a269-4d9c-dca8-29f8fcfef4b9"
      },
      "execution_count": null,
      "outputs": [
        {
          "output_type": "stream",
          "name": "stdout",
          "text": [
            "0b1011 + 0b1001 = 0b10100\n"
          ]
        }
      ]
    }
  ]
}