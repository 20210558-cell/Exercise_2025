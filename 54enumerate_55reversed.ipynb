{
  "nbformat": 4,
  "nbformat_minor": 0,
  "metadata": {
    "colab": {
      "provenance": [],
      "authorship_tag": "ABX9TyNTDVCjkutJklqMSyuw6XjM",
      "include_colab_link": true
    },
    "kernelspec": {
      "name": "python3",
      "display_name": "Python 3"
    },
    "language_info": {
      "name": "python"
    }
  },
  "cells": [
    {
      "cell_type": "markdown",
      "metadata": {
        "id": "view-in-github",
        "colab_type": "text"
      },
      "source": [
        "<a href=\"https://colab.research.google.com/github/20210558-cell/Exercise_2025/blob/main/54enumerate_55reversed.ipynb\" target=\"_parent\"><img src=\"https://colab.research.google.com/assets/colab-badge.svg\" alt=\"Open In Colab\"/></a>"
      ]
    },
    {
      "cell_type": "code",
      "execution_count": null,
      "metadata": {
        "colab": {
          "base_uri": "https://localhost:8080/"
        },
        "id": "ZJVWKZtKZLR6",
        "outputId": "0bba99bf-01b2-4080-9adb-518fd6578a4d"
      },
      "outputs": [
        {
          "output_type": "stream",
          "name": "stdout",
          "text": [
            "태양계의 0번째 천체: 태양\n",
            "태양계의 1번째 천체: 수성\n",
            "태양계의 2번째 천체: 금성\n",
            "태양계의 3번째 천체: 지구\n",
            "태양계의 4번째 천체: 화성\n",
            "태양계의 5번째 천체: 목성\n",
            "태양계의 6번째 천체: 토성\n",
            "태양계의 7번째 천체: 천왕성\n",
            "태양계의 8번째 천체: 해왕성\n"
          ]
        }
      ],
      "source": [
        "solarsys = ['태양', '수성', '금성', '지구', '화성', '목성', '토성', '천왕성', '해왕성']\n",
        "for i, body in enumerate(solarsys):\n",
        "  print(f'태양계의 {i}번째 천체: {body}')"
      ]
    },
    {
      "cell_type": "code",
      "source": [
        "seasons = ['봄', '여름', '가을', '겨울']\n",
        "print(list(enumerate(seasons, start = 1)))"
      ],
      "metadata": {
        "colab": {
          "base_uri": "https://localhost:8080/"
        },
        "id": "apgTWVctZmRz",
        "outputId": "6ce6161d-e049-4b0c-a543-0393787893dc"
      },
      "execution_count": null,
      "outputs": [
        {
          "output_type": "stream",
          "name": "stdout",
          "text": [
            "[(1, '봄'), (2, '여름'), (3, '가을'), (4, '겨울')]\n"
          ]
        }
      ]
    },
    {
      "cell_type": "code",
      "source": [
        "# enumerate()를 구현한 제너레이터\n",
        "def myEnumerate(iterable, start = 0):\n",
        "  n = start\n",
        "  for item in iterable:\n",
        "    yield(n, item)\n",
        "    n += 1"
      ],
      "metadata": {
        "id": "LicnCmTKaQwo"
      },
      "execution_count": null,
      "outputs": []
    },
    {
      "cell_type": "code",
      "source": [
        "print(list(myEnumerate(seasons, start = 1)))"
      ],
      "metadata": {
        "colab": {
          "base_uri": "https://localhost:8080/"
        },
        "id": "r6jOzGF8ahAc",
        "outputId": "a58823c4-e866-40a3-9db1-6214979dfd7c"
      },
      "execution_count": null,
      "outputs": [
        {
          "output_type": "stream",
          "name": "stdout",
          "text": [
            "[(1, '봄'), (2, '여름'), (3, '가을'), (4, '겨울')]\n"
          ]
        }
      ]
    },
    {
      "cell_type": "code",
      "source": [
        "fruits = ('사과', '배', '오렌지', '수박')\n",
        "ret = reversed(fruits)\n",
        "print(list(ret))"
      ],
      "metadata": {
        "colab": {
          "base_uri": "https://localhost:8080/"
        },
        "id": "ZKgM-jFIan--",
        "outputId": "f42b8fd3-bf2e-4c42-bae9-dae018214589"
      },
      "execution_count": null,
      "outputs": [
        {
          "output_type": "stream",
          "name": "stdout",
          "text": [
            "['수박', '오렌지', '배', '사과']\n"
          ]
        }
      ]
    },
    {
      "cell_type": "code",
      "source": [
        "print(fruits)"
      ],
      "metadata": {
        "colab": {
          "base_uri": "https://localhost:8080/"
        },
        "id": "7LhZ-hpga0k8",
        "outputId": "91a3c3ea-e315-419e-b977-a886ce3ec948"
      },
      "execution_count": null,
      "outputs": [
        {
          "output_type": "stream",
          "name": "stdout",
          "text": [
            "('사과', '배', '오렌지', '수박')\n"
          ]
        }
      ]
    },
    {
      "cell_type": "code",
      "source": [
        "for i in reversed(range(1, 6)):\n",
        "  print(i)"
      ],
      "metadata": {
        "colab": {
          "base_uri": "https://localhost:8080/"
        },
        "id": "n1eqSEkQa29z",
        "outputId": "82d65fc9-dc99-40ee-a648-e3353f1c2aed"
      },
      "execution_count": null,
      "outputs": [
        {
          "output_type": "stream",
          "name": "stdout",
          "text": [
            "5\n",
            "4\n",
            "3\n",
            "2\n",
            "1\n"
          ]
        }
      ]
    }
  ]
}