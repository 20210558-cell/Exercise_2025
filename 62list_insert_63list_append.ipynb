{
  "nbformat": 4,
  "nbformat_minor": 0,
  "metadata": {
    "colab": {
      "provenance": [],
      "authorship_tag": "ABX9TyOTg+Qyxmoc9PgKWnWKJW4q",
      "include_colab_link": true
    },
    "kernelspec": {
      "name": "python3",
      "display_name": "Python 3"
    },
    "language_info": {
      "name": "python"
    }
  },
  "cells": [
    {
      "cell_type": "markdown",
      "metadata": {
        "id": "view-in-github",
        "colab_type": "text"
      },
      "source": [
        "<a href=\"https://colab.research.google.com/github/20210558-cell/Exercise_2025/blob/main/62list_insert_63list_append.ipynb\" target=\"_parent\"><img src=\"https://colab.research.google.com/assets/colab-badge.svg\" alt=\"Open In Colab\"/></a>"
      ]
    },
    {
      "cell_type": "code",
      "execution_count": null,
      "metadata": {
        "colab": {
          "base_uri": "https://localhost:8080/"
        },
        "id": "KaTjevzggF5b",
        "outputId": "afaf52d3-0d61-4405-c201-fde9c2002679"
      },
      "outputs": [
        {
          "output_type": "stream",
          "name": "stdout",
          "text": [
            "['목성', '토성', '천왕성', '해왕성']\n"
          ]
        }
      ],
      "source": [
        "outer_planets = ['목성', '천왕성', '해왕성']\n",
        "pos = outer_planets.index('천왕성')\n",
        "outer_planets.insert(pos, '토성')\n",
        "print(outer_planets)"
      ]
    },
    {
      "cell_type": "code",
      "source": [
        "outer_planets.insert(-1, '명왕성')\n",
        "print(outer_planets)"
      ],
      "metadata": {
        "colab": {
          "base_uri": "https://localhost:8080/"
        },
        "id": "twzDzRkDglaX",
        "outputId": "5d1c00ec-61fe-4206-b980-e6a12e706fb4"
      },
      "execution_count": null,
      "outputs": [
        {
          "output_type": "stream",
          "name": "stdout",
          "text": [
            "['목성', '토성', '천왕성', '명왕성', '해왕성']\n"
          ]
        }
      ]
    },
    {
      "cell_type": "code",
      "source": [
        "outer_planets = ['목성', '토성', '천왕성', '해왕성']\n",
        "outer_planets.insert(len(outer_planets), '명왕성')\n",
        "print(outer_planets)"
      ],
      "metadata": {
        "colab": {
          "base_uri": "https://localhost:8080/"
        },
        "id": "HPsxeQ8Ugru6",
        "outputId": "83ae1f53-bbfc-4960-cb27-e8d21a4814cd"
      },
      "execution_count": null,
      "outputs": [
        {
          "output_type": "stream",
          "name": "stdout",
          "text": [
            "['목성', '토성', '천왕성', '해왕성', '명왕성']\n"
          ]
        }
      ]
    },
    {
      "cell_type": "code",
      "source": [
        "fileList = []\n",
        "for i in range(3):\n",
        "  fname = input(f'파일 이름을 입력하세요[{i+1}/3]:')\n",
        "  if fname not in fileList:\n",
        "    fileList.append(fname)\n",
        "  print(f'현재 저장된 파일들:{fileList}')"
      ],
      "metadata": {
        "colab": {
          "base_uri": "https://localhost:8080/"
        },
        "id": "iN2FSI0yg96B",
        "outputId": "1825bcb5-1249-4b47-e72d-5e7fbee78f5b"
      },
      "execution_count": null,
      "outputs": [
        {
          "output_type": "stream",
          "name": "stdout",
          "text": [
            "파일 이름을 입력하세요[1/3]:a.jpg\n",
            "현재 저장된 파일들:['a.jpg']\n",
            "파일 이름을 입력하세요[2/3]:b.jpg\n",
            "현재 저장된 파일들:['a.jpg', 'b.jpg']\n",
            "파일 이름을 입력하세요[3/3]:b.jpg\n",
            "현재 저장된 파일들:['a.jpg', 'b.jpg']\n"
          ]
        }
      ]
    }
  ]
}