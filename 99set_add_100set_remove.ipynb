{
  "nbformat": 4,
  "nbformat_minor": 0,
  "metadata": {
    "colab": {
      "provenance": [],
      "authorship_tag": "ABX9TyOtTHz1nOq4bhaslawIX2UU",
      "include_colab_link": true
    },
    "kernelspec": {
      "name": "python3",
      "display_name": "Python 3"
    },
    "language_info": {
      "name": "python"
    }
  },
  "cells": [
    {
      "cell_type": "markdown",
      "metadata": {
        "id": "view-in-github",
        "colab_type": "text"
      },
      "source": [
        "<a href=\"https://colab.research.google.com/github/20210558-cell/Homework_2025/blob/main/99set_add_100set_remove.ipynb\" target=\"_parent\"><img src=\"https://colab.research.google.com/assets/colab-badge.svg\" alt=\"Open In Colab\"/></a>"
      ]
    },
    {
      "cell_type": "code",
      "execution_count": null,
      "metadata": {
        "colab": {
          "base_uri": "https://localhost:8080/"
        },
        "id": "qWWJSimr-JBU",
        "outputId": "a8f950e7-79d0-4eb2-87c9-1db6baf4e4d6"
      },
      "outputs": [
        {
          "output_type": "stream",
          "name": "stdout",
          "text": [
            "{'딸기', '오렌지', '사과', '배', '수박'}\n"
          ]
        }
      ],
      "source": [
        "fruits = {'사과', '배', '오렌지', '수박'}\n",
        "fruits.add('딸기')\n",
        "print(fruits)"
      ]
    },
    {
      "cell_type": "code",
      "source": [
        "fruits.add('배')\n",
        "print(fruits)"
      ],
      "metadata": {
        "colab": {
          "base_uri": "https://localhost:8080/"
        },
        "id": "0DtsDQCa-jkx",
        "outputId": "7877db44-5adc-4bd8-e211-60c4c2bffea8"
      },
      "execution_count": null,
      "outputs": [
        {
          "output_type": "stream",
          "name": "stdout",
          "text": [
            "{'딸기', '오렌지', '사과', '배', '수박'}\n"
          ]
        }
      ]
    },
    {
      "cell_type": "code",
      "source": [
        "fruits = {'사과', '배', '오렌지', '수박'}\n",
        "fruits.remove('사과')\n",
        "print(fruits)"
      ],
      "metadata": {
        "colab": {
          "base_uri": "https://localhost:8080/"
        },
        "id": "lSsb8Sfe-p6-",
        "outputId": "e05573fd-8637-4bd7-b489-e1e53719216e"
      },
      "execution_count": null,
      "outputs": [
        {
          "output_type": "stream",
          "name": "stdout",
          "text": [
            "{'오렌지', '배', '수박'}\n"
          ]
        }
      ]
    },
    {
      "cell_type": "code",
      "source": [
        "fruits.remove('딸기')"
      ],
      "metadata": {
        "colab": {
          "base_uri": "https://localhost:8080/",
          "height": 147
        },
        "id": "5QQtdHw7-xtf",
        "outputId": "aa0d8681-695b-4694-9570-270d04e0bfa1"
      },
      "execution_count": null,
      "outputs": [
        {
          "output_type": "error",
          "ename": "KeyError",
          "evalue": "'딸기'",
          "traceback": [
            "\u001b[0;31m---------------------------------------------------------------------------\u001b[0m",
            "\u001b[0;31mKeyError\u001b[0m                                  Traceback (most recent call last)",
            "\u001b[0;32m/tmp/ipython-input-954756110.py\u001b[0m in \u001b[0;36m<cell line: 0>\u001b[0;34m()\u001b[0m\n\u001b[0;32m----> 1\u001b[0;31m \u001b[0mfruits\u001b[0m\u001b[0;34m.\u001b[0m\u001b[0mremove\u001b[0m\u001b[0;34m(\u001b[0m\u001b[0;34m'딸기'\u001b[0m\u001b[0;34m)\u001b[0m\u001b[0;34m\u001b[0m\u001b[0;34m\u001b[0m\u001b[0m\n\u001b[0m",
            "\u001b[0;31mKeyError\u001b[0m: '딸기'"
          ]
        }
      ]
    }
  ]
}