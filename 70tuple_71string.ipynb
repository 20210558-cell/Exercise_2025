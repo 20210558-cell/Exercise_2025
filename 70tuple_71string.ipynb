{
  "nbformat": 4,
  "nbformat_minor": 0,
  "metadata": {
    "colab": {
      "provenance": [],
      "authorship_tag": "ABX9TyNI/L0s6BiuGdBgSTlwk4CX",
      "include_colab_link": true
    },
    "kernelspec": {
      "name": "python3",
      "display_name": "Python 3"
    },
    "language_info": {
      "name": "python"
    }
  },
  "cells": [
    {
      "cell_type": "markdown",
      "metadata": {
        "id": "view-in-github",
        "colab_type": "text"
      },
      "source": [
        "<a href=\"https://colab.research.google.com/github/20210558-cell/Exercise_2025/blob/main/70tuple_71string.ipynb\" target=\"_parent\"><img src=\"https://colab.research.google.com/assets/colab-badge.svg\" alt=\"Open In Colab\"/></a>"
      ]
    },
    {
      "cell_type": "code",
      "execution_count": null,
      "metadata": {
        "colab": {
          "base_uri": "https://localhost:8080/"
        },
        "id": "cOqTfVZwMUVf",
        "outputId": "618b8fd5-e18e-40aa-dff6-e6e5294a2bb8"
      },
      "outputs": [
        {
          "output_type": "stream",
          "name": "stdout",
          "text": [
            "(1, 'two', '셋')\n"
          ]
        }
      ],
      "source": [
        "tupleData = 1, 'two', '셋'\n",
        "print(tupleData)"
      ]
    },
    {
      "cell_type": "code",
      "source": [
        "tupleData = (1, 'two', '셋')\n",
        "print(tupleData)"
      ],
      "metadata": {
        "colab": {
          "base_uri": "https://localhost:8080/"
        },
        "id": "Y4im4-JuMi7N",
        "outputId": "6aa145b0-32ce-46ac-e93d-a6cb99e4fb27"
      },
      "execution_count": null,
      "outputs": [
        {
          "output_type": "stream",
          "name": "stdout",
          "text": [
            "(1, 'two', '셋')\n"
          ]
        }
      ]
    },
    {
      "cell_type": "code",
      "source": [
        "x, y, z = tupleData\n",
        "print(f'x={x}, y={y}, z={z}')"
      ],
      "metadata": {
        "colab": {
          "base_uri": "https://localhost:8080/"
        },
        "id": "r4TO33jxMmrQ",
        "outputId": "50573fcf-c4d3-47ae-820b-287124fb9569"
      },
      "execution_count": null,
      "outputs": [
        {
          "output_type": "stream",
          "name": "stdout",
          "text": [
            "x=1, y=two, z=셋\n"
          ]
        }
      ]
    },
    {
      "cell_type": "code",
      "source": [
        "tupleData = (0, 1, 2, 3, 4)\n",
        "tupleData[3] = 'Three'"
      ],
      "metadata": {
        "colab": {
          "base_uri": "https://localhost:8080/",
          "height": 166
        },
        "id": "zmRvQ-lkMuCy",
        "outputId": "14802f6d-6a90-486f-9161-cc1fecf7d0e6"
      },
      "execution_count": null,
      "outputs": [
        {
          "output_type": "error",
          "ename": "TypeError",
          "evalue": "'tuple' object does not support item assignment",
          "traceback": [
            "\u001b[0;31m---------------------------------------------------------------------------\u001b[0m",
            "\u001b[0;31mTypeError\u001b[0m                                 Traceback (most recent call last)",
            "\u001b[0;32m/tmp/ipython-input-2583110325.py\u001b[0m in \u001b[0;36m<cell line: 0>\u001b[0;34m()\u001b[0m\n\u001b[1;32m      1\u001b[0m \u001b[0mtupleData\u001b[0m \u001b[0;34m=\u001b[0m \u001b[0;34m(\u001b[0m\u001b[0;36m0\u001b[0m\u001b[0;34m,\u001b[0m \u001b[0;36m1\u001b[0m\u001b[0;34m,\u001b[0m \u001b[0;36m2\u001b[0m\u001b[0;34m,\u001b[0m \u001b[0;36m3\u001b[0m\u001b[0;34m,\u001b[0m \u001b[0;36m4\u001b[0m\u001b[0;34m)\u001b[0m\u001b[0;34m\u001b[0m\u001b[0;34m\u001b[0m\u001b[0m\n\u001b[0;32m----> 2\u001b[0;31m \u001b[0mtupleData\u001b[0m\u001b[0;34m[\u001b[0m\u001b[0;36m3\u001b[0m\u001b[0;34m]\u001b[0m \u001b[0;34m=\u001b[0m \u001b[0;34m'Three'\u001b[0m\u001b[0;34m\u001b[0m\u001b[0;34m\u001b[0m\u001b[0m\n\u001b[0m",
            "\u001b[0;31mTypeError\u001b[0m: 'tuple' object does not support item assignment"
          ]
        }
      ]
    },
    {
      "cell_type": "code",
      "source": [
        "strData1 = '안녕하세요'\n",
        "strData2 = '작은따옴표는 \"큰따옴표\"를 포함하는 문자열이 가능합니다.'\n",
        "print(strData1)\n",
        "print(strData2)"
      ],
      "metadata": {
        "colab": {
          "base_uri": "https://localhost:8080/"
        },
        "id": "3hFrfPX-M02X",
        "outputId": "04429784-e052-4076-db72-24384346ff7b"
      },
      "execution_count": null,
      "outputs": [
        {
          "output_type": "stream",
          "name": "stdout",
          "text": [
            "안녕하세요\n",
            "작은따옴표는 \"큰따옴표\"를 포함하는 문자열이 가능합니다.\n"
          ]
        }
      ]
    },
    {
      "cell_type": "code",
      "source": [
        "strData3 = \"안녕하세요\"\n",
        "strData4 = \"큰따옴표는 '작은따옴표'를 포함하는 문자열이 가능합니다.\"\n",
        "print(strData3)\n",
        "print(strData4)"
      ],
      "metadata": {
        "colab": {
          "base_uri": "https://localhost:8080/"
        },
        "id": "mpQnt952NAND",
        "outputId": "e398e913-4d30-4246-ab4a-001cf9b29d18"
      },
      "execution_count": null,
      "outputs": [
        {
          "output_type": "stream",
          "name": "stdout",
          "text": [
            "안녕하세요\n",
            "큰따옴표는 '작은따옴표'를 포함하는 문자열이 가능합니다.\n"
          ]
        }
      ]
    },
    {
      "cell_type": "code",
      "source": [
        "strData5 = '''3중 작은따옴표는\n",
        "        여러 줄에 걸친 문자열이 가능합니다.'''\n",
        "print(strData5)"
      ],
      "metadata": {
        "colab": {
          "base_uri": "https://localhost:8080/"
        },
        "id": "XLRO6k56NIXO",
        "outputId": "e81e229d-bbd2-49b8-aaa6-d4fd505bd08e"
      },
      "execution_count": null,
      "outputs": [
        {
          "output_type": "stream",
          "name": "stdout",
          "text": [
            "3중 작은따옴표는\n",
            "        여러 줄에 걸친 문자열이 가능합니다.\n"
          ]
        }
      ]
    },
    {
      "cell_type": "code",
      "source": [
        "strData6 = \"\"\"3중 따옴표 역시\n",
        "여러 줄에 걸친 문자열이 가능합니다.\"\"\"\n",
        "print(strData6)"
      ],
      "metadata": {
        "colab": {
          "base_uri": "https://localhost:8080/"
        },
        "id": "OwI6qNbBNSOL",
        "outputId": "28ee221c-97ca-4d80-a2ac-59dc894d6f5d"
      },
      "execution_count": null,
      "outputs": [
        {
          "output_type": "stream",
          "name": "stdout",
          "text": [
            "3중 따옴표 역시\n",
            "여러 줄에 걸친 문자열이 가능합니다.\n"
          ]
        }
      ]
    }
  ]
}