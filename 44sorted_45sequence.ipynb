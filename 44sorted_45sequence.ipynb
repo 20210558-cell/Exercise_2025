{
  "nbformat": 4,
  "nbformat_minor": 0,
  "metadata": {
    "colab": {
      "provenance": [],
      "authorship_tag": "ABX9TyO5Dmjvs0kqQthzsmYn2fhG",
      "include_colab_link": true
    },
    "kernelspec": {
      "name": "python3",
      "display_name": "Python 3"
    },
    "language_info": {
      "name": "python"
    }
  },
  "cells": [
    {
      "cell_type": "markdown",
      "metadata": {
        "id": "view-in-github",
        "colab_type": "text"
      },
      "source": [
        "<a href=\"https://colab.research.google.com/github/20210558-cell/Exercise_2025/blob/main/44sorted_45sequence.ipynb\" target=\"_parent\"><img src=\"https://colab.research.google.com/assets/colab-badge.svg\" alt=\"Open In Colab\"/></a>"
      ]
    },
    {
      "cell_type": "code",
      "execution_count": null,
      "metadata": {
        "colab": {
          "base_uri": "https://localhost:8080/"
        },
        "id": "ZaJrhj2teVA3",
        "outputId": "372d582a-362d-4a7f-dfd7-3baf57292998"
      },
      "outputs": [
        {
          "output_type": "stream",
          "name": "stdout",
          "text": [
            "[1, 8, 27, 39, 42, 44]\n",
            "[44, 42, 39, 27, 8, 1]\n",
            "[42, 1, 39, 27, 44, 8]\n"
          ]
        }
      ],
      "source": [
        "listData = [42, 1, 39, 27, 44, 8]\n",
        "ret1 = sorted(listData)                   # listData를 오름차순으로 정렬\n",
        "ret2 = sorted(listData, reverse=True)     # listData를 내림차순으로 정렬\n",
        "print(ret1)\n",
        "print(ret2)\n",
        "print(listData)"
      ]
    },
    {
      "cell_type": "code",
      "source": [
        "tupleData = ('사과', '배', '오렌지', '수박', '참외')\n",
        "ret = sorted(tupleData)\n",
        "print(ret)"
      ],
      "metadata": {
        "colab": {
          "base_uri": "https://localhost:8080/"
        },
        "id": "yhxJOtYGfbNq",
        "outputId": "ab2e31a0-9bae-4905-a582-9495b8209a7e"
      },
      "execution_count": null,
      "outputs": [
        {
          "output_type": "stream",
          "name": "stdout",
          "text": [
            "['배', '사과', '수박', '오렌지', '참외']\n"
          ]
        }
      ]
    },
    {
      "cell_type": "code",
      "source": [
        "strData = 'I love python!'\n",
        "ret = sorted(strData)\n",
        "print(ret)"
      ],
      "metadata": {
        "colab": {
          "base_uri": "https://localhost:8080/"
        },
        "id": "jB3HX05Ofkms",
        "outputId": "6f511387-adcc-46ac-9c77-04c15ea05e01"
      },
      "execution_count": null,
      "outputs": [
        {
          "output_type": "stream",
          "name": "stdout",
          "text": [
            "[' ', ' ', '!', 'I', 'e', 'h', 'l', 'n', 'o', 'o', 'p', 't', 'v', 'y']\n"
          ]
        }
      ]
    },
    {
      "cell_type": "code",
      "source": [
        "population = {'김씨':2834, '이씨':2288, '박씨':1889}\n",
        "ret = sorted(population)\n",
        "print(ret)"
      ],
      "metadata": {
        "colab": {
          "base_uri": "https://localhost:8080/"
        },
        "id": "GrSS_xjFfvBQ",
        "outputId": "ab038ac7-8d76-44cb-d577-aa9d099449f0"
      },
      "execution_count": null,
      "outputs": [
        {
          "output_type": "stream",
          "name": "stdout",
          "text": [
            "['김씨', '박씨', '이씨']\n"
          ]
        }
      ]
    },
    {
      "cell_type": "code",
      "source": [
        "listData = [1, 2, 3, 4, 5]"
      ],
      "metadata": {
        "id": "NcwkwjJqf8e0"
      },
      "execution_count": null,
      "outputs": []
    },
    {
      "cell_type": "code",
      "source": [
        "tupleData = {1, 2, 3, 4, 5}"
      ],
      "metadata": {
        "id": "29Kwheh4f_aA"
      },
      "execution_count": null,
      "outputs": []
    },
    {
      "cell_type": "code",
      "source": [
        "strData1 = '010-1234-5678'\n",
        "strData2 = '사랑해요 파이썬!'\n",
        "strData3 = 'I love python!'"
      ],
      "metadata": {
        "id": "7s05ulx8gC_j"
      },
      "execution_count": null,
      "outputs": []
    },
    {
      "cell_type": "code",
      "source": [
        "bstr = b'Hello python!'"
      ],
      "metadata": {
        "id": "UgwEPv2sgMei"
      },
      "execution_count": null,
      "outputs": []
    }
  ]
}