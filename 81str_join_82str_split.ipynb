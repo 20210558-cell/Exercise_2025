{
  "nbformat": 4,
  "nbformat_minor": 0,
  "metadata": {
    "colab": {
      "provenance": [],
      "authorship_tag": "ABX9TyMsmTeRVXMQcRVplNPNzRBV",
      "include_colab_link": true
    },
    "kernelspec": {
      "name": "python3",
      "display_name": "Python 3"
    },
    "language_info": {
      "name": "python"
    }
  },
  "cells": [
    {
      "cell_type": "markdown",
      "metadata": {
        "id": "view-in-github",
        "colab_type": "text"
      },
      "source": [
        "<a href=\"https://colab.research.google.com/github/20210558-cell/Exercise_2025/blob/main/81str_join_82str_split.ipynb\" target=\"_parent\"><img src=\"https://colab.research.google.com/assets/colab-badge.svg\" alt=\"Open In Colab\"/></a>"
      ]
    },
    {
      "cell_type": "code",
      "execution_count": null,
      "metadata": {
        "colab": {
          "base_uri": "https://localhost:8080/"
        },
        "id": "Cr-me6PZgrv1",
        "outputId": "bf39a5e0-4e00-4b81-bd1b-a99f344fe12c"
      },
      "outputs": [
        {
          "output_type": "stream",
          "name": "stdout",
          "text": [
            "홍길동;남자;18세;도적;초능력자\n"
          ]
        }
      ],
      "source": [
        "profile = ['홍길동', '남자', '18세', '도적', '초능력자']\n",
        "logData = ';'.join(profile)\n",
        "print(logData)"
      ]
    },
    {
      "cell_type": "code",
      "source": [
        "profile = ['홍길동', '남자', 18, '도적', '초능력자']\n",
        "logData = ';'.join(profile)"
      ],
      "metadata": {
        "colab": {
          "base_uri": "https://localhost:8080/",
          "height": 166
        },
        "id": "nSHkVbOlhD4p",
        "outputId": "64effbc9-4764-47d3-cae5-b351e67c20f2"
      },
      "execution_count": null,
      "outputs": [
        {
          "output_type": "error",
          "ename": "TypeError",
          "evalue": "sequence item 2: expected str instance, int found",
          "traceback": [
            "\u001b[0;31m---------------------------------------------------------------------------\u001b[0m",
            "\u001b[0;31mTypeError\u001b[0m                                 Traceback (most recent call last)",
            "\u001b[0;32m/tmp/ipython-input-926716165.py\u001b[0m in \u001b[0;36m<cell line: 0>\u001b[0;34m()\u001b[0m\n\u001b[1;32m      1\u001b[0m \u001b[0mprofile\u001b[0m \u001b[0;34m=\u001b[0m \u001b[0;34m[\u001b[0m\u001b[0;34m'홍길동'\u001b[0m\u001b[0;34m,\u001b[0m \u001b[0;34m'남자'\u001b[0m\u001b[0;34m,\u001b[0m \u001b[0;36m18\u001b[0m\u001b[0;34m,\u001b[0m \u001b[0;34m'도적'\u001b[0m\u001b[0;34m,\u001b[0m \u001b[0;34m'초능력자'\u001b[0m\u001b[0;34m]\u001b[0m\u001b[0;34m\u001b[0m\u001b[0;34m\u001b[0m\u001b[0m\n\u001b[0;32m----> 2\u001b[0;31m \u001b[0mlogData\u001b[0m \u001b[0;34m=\u001b[0m \u001b[0;34m';'\u001b[0m\u001b[0;34m.\u001b[0m\u001b[0mjoin\u001b[0m\u001b[0;34m(\u001b[0m\u001b[0mprofile\u001b[0m\u001b[0;34m)\u001b[0m\u001b[0;34m\u001b[0m\u001b[0;34m\u001b[0m\u001b[0m\n\u001b[0m",
            "\u001b[0;31mTypeError\u001b[0m: sequence item 2: expected str instance, int found"
          ]
        }
      ]
    },
    {
      "cell_type": "code",
      "source": [
        "logData = '홍길동;남자;18세;도적;초능력자'\n",
        "profile = logData.split(';')\n",
        "print(profile)"
      ],
      "metadata": {
        "colab": {
          "base_uri": "https://localhost:8080/"
        },
        "id": "p2PZIVhshOR-",
        "outputId": "d0e3e978-af60-4b48-f3d5-b62e430e4eb2"
      },
      "execution_count": null,
      "outputs": [
        {
          "output_type": "stream",
          "name": "stdout",
          "text": [
            "['홍길동', '남자', '18세', '도적', '초능력자']\n"
          ]
        }
      ]
    },
    {
      "cell_type": "code",
      "source": [
        "text = '나는 파이썬을 사랑합니다.'\n",
        "print(text.split())"
      ],
      "metadata": {
        "colab": {
          "base_uri": "https://localhost:8080/"
        },
        "id": "VtDTdFMmhXoJ",
        "outputId": "76c822ae-8c4e-468c-a35b-6b10cf5ae889"
      },
      "execution_count": null,
      "outputs": [
        {
          "output_type": "stream",
          "name": "stdout",
          "text": [
            "['나는', '파이썬을', '사랑합니다.']\n"
          ]
        }
      ]
    },
    {
      "cell_type": "code",
      "source": [
        "profile = '이름:홍길동 나이:18세 성별:남자 국적:조선 직업:도적 특기:초능력'\n",
        "for data in profile.split():\n",
        "  key, val = data.split(':')\n",
        "  print(f'{key}-->{val}')"
      ],
      "metadata": {
        "colab": {
          "base_uri": "https://localhost:8080/"
        },
        "id": "vKcNAyY_hbzn",
        "outputId": "012eed2d-ac3f-4a4a-c35c-89a847a2d61f"
      },
      "execution_count": null,
      "outputs": [
        {
          "output_type": "stream",
          "name": "stdout",
          "text": [
            "이름-->홍길동\n",
            "나이-->18세\n",
            "성별-->남자\n",
            "국적-->조선\n",
            "직업-->도적\n",
            "특기-->초능력\n"
          ]
        }
      ]
    }
  ]
}