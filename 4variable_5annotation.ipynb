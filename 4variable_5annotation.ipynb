{
  "nbformat": 4,
  "nbformat_minor": 0,
  "metadata": {
    "colab": {
      "provenance": [],
      "authorship_tag": "ABX9TyNRD52/+ZK11dyCwUnpvnd8",
      "include_colab_link": true
    },
    "kernelspec": {
      "name": "python3",
      "display_name": "Python 3"
    },
    "language_info": {
      "name": "python"
    }
  },
  "cells": [
    {
      "cell_type": "markdown",
      "metadata": {
        "id": "view-in-github",
        "colab_type": "text"
      },
      "source": [
        "<a href=\"https://colab.research.google.com/github/20210558-cell/Exercise_2025/blob/main/4variable_5annotation.ipynb\" target=\"_parent\"><img src=\"https://colab.research.google.com/assets/colab-badge.svg\" alt=\"Open In Colab\"/></a>"
      ]
    },
    {
      "cell_type": "code",
      "source": [
        "_myname = 'samsjang'\n",
        "my_name='홍길동'\n",
        "MyName3='Hong Gil-dong'\n",
        "country='대한민국'"
      ],
      "metadata": {
        "id": "QdT-LsuXnMDE"
      },
      "execution_count": null,
      "outputs": []
    },
    {
      "cell_type": "code",
      "source": [
        "### 주석처리 예시\n",
        "### 만든 날짜: 2024.12.30\n",
        "\n",
        "a = 1         # a에 1을 할당\n",
        "b = 5         # b에 5를 할당\n",
        "print(a+b)    # a+b의 값을 출력"
      ],
      "metadata": {
        "colab": {
          "base_uri": "https://localhost:8080/"
        },
        "id": "vXNTSPfXqa22",
        "outputId": "33ce9624-a01a-463f-dd25-0d94e1b9cf8f"
      },
      "execution_count": null,
      "outputs": [
        {
          "output_type": "stream",
          "name": "stdout",
          "text": [
            "6\n"
          ]
        }
      ]
    },
    {
      "cell_type": "code",
      "source": [
        "comment = 'Result ='\n",
        "# 삼중 따옴표로 특정 영억 주석 처리 예시\n",
        "\"\"\"a = 1\n",
        "b = 100\n",
        "print(a+b)\"\"\"\n",
        "a = 5\n",
        "b = 50\n",
        "print(comment, a+b)"
      ],
      "metadata": {
        "colab": {
          "base_uri": "https://localhost:8080/"
        },
        "id": "i40LFrEkquHc",
        "outputId": "916824e2-dfa7-4c4a-cab6-7c5cc403ff05"
      },
      "execution_count": null,
      "outputs": [
        {
          "output_type": "stream",
          "name": "stdout",
          "text": [
            "Result = 55\n"
          ]
        }
      ]
    }
  ]
}