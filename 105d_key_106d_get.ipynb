{
  "nbformat": 4,
  "nbformat_minor": 0,
  "metadata": {
    "colab": {
      "provenance": [],
      "authorship_tag": "ABX9TyM7zez8Mu94jQ5XQ+61SQmN",
      "include_colab_link": true
    },
    "kernelspec": {
      "name": "python3",
      "display_name": "Python 3"
    },
    "language_info": {
      "name": "python"
    }
  },
  "cells": [
    {
      "cell_type": "markdown",
      "metadata": {
        "id": "view-in-github",
        "colab_type": "text"
      },
      "source": [
        "<a href=\"https://colab.research.google.com/github/20210558-cell/Homework_2025/blob/main/105d_key_106d_get.ipynb\" target=\"_parent\"><img src=\"https://colab.research.google.com/assets/colab-badge.svg\" alt=\"Open In Colab\"/></a>"
      ]
    },
    {
      "cell_type": "code",
      "execution_count": null,
      "metadata": {
        "colab": {
          "base_uri": "https://localhost:8080/"
        },
        "id": "4ltmUwFhDme_",
        "outputId": "9be81912-472e-411a-f47c-735c43295515"
      },
      "outputs": [
        {
          "output_type": "stream",
          "name": "stdout",
          "text": [
            "2022년 기준 서울의 인구는 9,407,540명 입니다.\n"
          ]
        }
      ],
      "source": [
        "population = {'서울':9407540, '부산':3320276, '인천':2964820}\n",
        "pnum = population['서울']\n",
        "print(f'2022년 기준 서울의 인구는 {pnum:,d}명 입니다.')"
      ]
    },
    {
      "cell_type": "code",
      "source": [
        "orddict = {97:'a', 98:'b', 99:'c'}\n",
        "print(f'ASCII 코드 97은 문자 {orddict[97]}에 대응됩니다.')"
      ],
      "metadata": {
        "colab": {
          "base_uri": "https://localhost:8080/"
        },
        "id": "c1OcmK52ED6l",
        "outputId": "b92a8a15-e869-45af-a8df-e2b2a0a8ad00"
      },
      "execution_count": null,
      "outputs": [
        {
          "output_type": "stream",
          "name": "stdout",
          "text": [
            "ASCII 코드 97은 문자 a에 대응됩니다.\n"
          ]
        }
      ]
    },
    {
      "cell_type": "code",
      "source": [
        "ret = orddict[95]"
      ],
      "metadata": {
        "colab": {
          "base_uri": "https://localhost:8080/",
          "height": 147
        },
        "id": "YfAaoieXESMW",
        "outputId": "9294f65f-f0f3-490a-88c2-e9240173cb0f"
      },
      "execution_count": null,
      "outputs": [
        {
          "output_type": "error",
          "ename": "KeyError",
          "evalue": "95",
          "traceback": [
            "\u001b[0;31m---------------------------------------------------------------------------\u001b[0m",
            "\u001b[0;31mKeyError\u001b[0m                                  Traceback (most recent call last)",
            "\u001b[0;32m/tmp/ipython-input-2380799019.py\u001b[0m in \u001b[0;36m<cell line: 0>\u001b[0;34m()\u001b[0m\n\u001b[0;32m----> 1\u001b[0;31m \u001b[0mret\u001b[0m \u001b[0;34m=\u001b[0m \u001b[0morddict\u001b[0m\u001b[0;34m[\u001b[0m\u001b[0;36m95\u001b[0m\u001b[0;34m]\u001b[0m\u001b[0;34m\u001b[0m\u001b[0;34m\u001b[0m\u001b[0m\n\u001b[0m",
            "\u001b[0;31mKeyError\u001b[0m: 95"
          ]
        }
      ]
    },
    {
      "cell_type": "code",
      "source": [
        "names = {'Mary':10999, 'Cris':2111, 'Aimy':9778, 'Tom':20245}\n",
        "ret1 = names.get('Cris')\n",
        "ret2 = names.get('Sams')\n",
        "print(f'ret1 = {ret1}, ret2 = {ret2}')"
      ],
      "metadata": {
        "colab": {
          "base_uri": "https://localhost:8080/"
        },
        "id": "n6yLg-moEWV7",
        "outputId": "ac33aad4-e316-47f6-b697-d4d3754598e8"
      },
      "execution_count": null,
      "outputs": [
        {
          "output_type": "stream",
          "name": "stdout",
          "text": [
            "ret1 = 2111, ret2 = None\n"
          ]
        }
      ]
    },
    {
      "cell_type": "code",
      "source": [
        "ret1 = names.get('Cris', 0)\n",
        "ret2 = names.get('Sams', 0)\n",
        "print(f'ret1 = {ret1}, ret2 = {ret2}')"
      ],
      "metadata": {
        "colab": {
          "base_uri": "https://localhost:8080/"
        },
        "id": "jxZqUHcfE_X6",
        "outputId": "d522dd59-981e-4117-fc8f-0d2369497299"
      },
      "execution_count": null,
      "outputs": [
        {
          "output_type": "stream",
          "name": "stdout",
          "text": [
            "ret1 = 2111, ret2 = 0\n"
          ]
        }
      ]
    }
  ]
}