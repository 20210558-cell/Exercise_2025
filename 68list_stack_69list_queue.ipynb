{
  "nbformat": 4,
  "nbformat_minor": 0,
  "metadata": {
    "colab": {
      "provenance": [],
      "authorship_tag": "ABX9TyN9MOGsd3EokvjFAQ6PY+xL",
      "include_colab_link": true
    },
    "kernelspec": {
      "name": "python3",
      "display_name": "Python 3"
    },
    "language_info": {
      "name": "python"
    }
  },
  "cells": [
    {
      "cell_type": "markdown",
      "metadata": {
        "id": "view-in-github",
        "colab_type": "text"
      },
      "source": [
        "<a href=\"https://colab.research.google.com/github/20210558-cell/Exercise_2025/blob/main/68list_stack_69list_queue.ipynb\" target=\"_parent\"><img src=\"https://colab.research.google.com/assets/colab-badge.svg\" alt=\"Open In Colab\"/></a>"
      ]
    },
    {
      "cell_type": "code",
      "execution_count": null,
      "metadata": {
        "id": "hiYqQl5Hl_qk"
      },
      "outputs": [],
      "source": [
        "mystack = []"
      ]
    },
    {
      "cell_type": "code",
      "source": [
        "def putData(data):\n",
        "  mystack.append(data)"
      ],
      "metadata": {
        "id": "VPTqPvNymXMu"
      },
      "execution_count": null,
      "outputs": []
    },
    {
      "cell_type": "code",
      "source": [
        "def popData():\n",
        "  if len(mystack) == 0:\n",
        "    return None\n",
        "  return mystack.pop()"
      ],
      "metadata": {
        "id": "a9i3PVvema_I"
      },
      "execution_count": null,
      "outputs": []
    },
    {
      "cell_type": "code",
      "source": [
        "putData('사과')\n",
        "putData([1, 2, 3])\n",
        "putData(3.141592)\n",
        "print(f'스택상태:{mystack}')"
      ],
      "metadata": {
        "colab": {
          "base_uri": "https://localhost:8080/"
        },
        "id": "ZJCpUZRvmhQj",
        "outputId": "569b36d5-dfce-4cbd-bebd-3c9dc5d67d19"
      },
      "execution_count": null,
      "outputs": [
        {
          "output_type": "stream",
          "name": "stdout",
          "text": [
            "스택상태:['사과', [1, 2, 3], 3.141592]\n"
          ]
        }
      ]
    },
    {
      "cell_type": "code",
      "source": [
        "ret = popData()\n",
        "while ret != None:\n",
        "  print(f'스택에서 데이터 추출:{ret}')\n",
        "  print(f'스택상태:{mystack}')\n",
        "  print('---------------------------')\n",
        "  ret = popData()"
      ],
      "metadata": {
        "id": "GjIRfMAdm5ao",
        "colab": {
          "base_uri": "https://localhost:8080/"
        },
        "outputId": "de0b489a-639f-409d-a15e-d70a6f99b216"
      },
      "execution_count": null,
      "outputs": [
        {
          "output_type": "stream",
          "name": "stdout",
          "text": [
            "스택에서 데이터 추출:사과\n",
            "스택상태:[]\n",
            "---------------------------\n",
            "스택에서 데이터 추출:[1, 2, 3]\n",
            "스택상태:[]\n",
            "---------------------------\n",
            "스택에서 데이터 추출:3.141592\n",
            "스택상태:[]\n",
            "---------------------------\n"
          ]
        }
      ]
    },
    {
      "cell_type": "code",
      "source": [
        "import collections\n",
        "myqueue = collections.deque([])"
      ],
      "metadata": {
        "id": "yupNICktnBzi"
      },
      "execution_count": null,
      "outputs": []
    },
    {
      "cell_type": "code",
      "source": [
        "def putData(data):\n",
        "  myqueue.append(data)"
      ],
      "metadata": {
        "id": "up2eI-hlnM8B"
      },
      "execution_count": null,
      "outputs": []
    },
    {
      "cell_type": "code",
      "source": [
        "def popData():\n",
        "  if len(myqueue) == 0:\n",
        "    return None\n",
        "  return myqueue.popleft()"
      ],
      "metadata": {
        "id": "X0HjZ96gnRk3"
      },
      "execution_count": null,
      "outputs": []
    },
    {
      "cell_type": "code",
      "source": [
        "putData('사과')\n",
        "putData([1, 2, 3])\n",
        "putData(3.141592)\n",
        "print(f'큐상태:{myqueue}')"
      ],
      "metadata": {
        "colab": {
          "base_uri": "https://localhost:8080/"
        },
        "id": "bSiku51znbNo",
        "outputId": "e3815c53-5c6b-4185-88ec-80ed9050fc96"
      },
      "execution_count": null,
      "outputs": [
        {
          "output_type": "stream",
          "name": "stdout",
          "text": [
            "큐상태:deque(['사과', [1, 2, 3], 3.141592])\n"
          ]
        }
      ]
    },
    {
      "cell_type": "code",
      "source": [
        "ret = popData()\n",
        "while ret != None:\n",
        "  print(f'큐에서 데이터 추출:{ret}')\n",
        "  print(f'큐상태:{myqueue}')\n",
        "  print('-------------')\n",
        "  ret = popData()"
      ],
      "metadata": {
        "id": "LQitU6hun2YD",
        "colab": {
          "base_uri": "https://localhost:8080/"
        },
        "outputId": "543ff33c-d7d2-4c35-a17e-02faa8830dd7"
      },
      "execution_count": null,
      "outputs": [
        {
          "output_type": "stream",
          "name": "stdout",
          "text": [
            "큐에서 데이터 추출:사과\n",
            "큐상태:deque([[1, 2, 3], 3.141592])\n",
            "-------------\n",
            "큐에서 데이터 추출:[1, 2, 3]\n",
            "큐상태:deque([3.141592])\n",
            "-------------\n",
            "큐에서 데이터 추출:3.141592\n",
            "큐상태:deque([])\n",
            "-------------\n"
          ]
        }
      ]
    }
  ]
}