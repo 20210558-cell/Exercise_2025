{
  "nbformat": 4,
  "nbformat_minor": 0,
  "metadata": {
    "colab": {
      "provenance": [],
      "authorship_tag": "ABX9TyO+uwJ09Zl+TISXFrl9HPXB",
      "include_colab_link": true
    },
    "kernelspec": {
      "name": "python3",
      "display_name": "Python 3"
    },
    "language_info": {
      "name": "python"
    }
  },
  "cells": [
    {
      "cell_type": "markdown",
      "metadata": {
        "id": "view-in-github",
        "colab_type": "text"
      },
      "source": [
        "<a href=\"https://colab.research.google.com/github/20210558-cell/Exercise_2025/blob/main/79str_isalpha_80str_isdecimal.ipynb\" target=\"_parent\"><img src=\"https://colab.research.google.com/assets/colab-badge.svg\" alt=\"Open In Colab\"/></a>"
      ]
    },
    {
      "cell_type": "code",
      "execution_count": null,
      "metadata": {
        "id": "x-FpOliSZibl"
      },
      "outputs": [],
      "source": [
        "strList = ['Hello', '오징어게임', '파이썬 lover', '안녕!', '제3세계']"
      ]
    },
    {
      "cell_type": "code",
      "source": [
        "for text in strList:\n",
        "  print(f'\"{text}\" \\t-->{text.isalpha()}')"
      ],
      "metadata": {
        "colab": {
          "base_uri": "https://localhost:8080/"
        },
        "id": "-KNCNYjgZ69W",
        "outputId": "705c6dc3-6ccc-45d0-ecd8-0abe0c9f76bd"
      },
      "execution_count": null,
      "outputs": [
        {
          "output_type": "stream",
          "name": "stdout",
          "text": [
            "\"Hello\" \t-->True\n",
            "\"오징어게임\" \t-->True\n",
            "\"파이썬 lover\" \t-->False\n",
            "\"안녕!\" \t-->False\n",
            "\"제3세계\" \t-->False\n"
          ]
        }
      ]
    },
    {
      "cell_type": "code",
      "source": [
        "numbers = ['1004', '-1', '3.14', 'Ⅸ', '⅞', '5²', '50%']"
      ],
      "metadata": {
        "id": "JGL3q_HraG7u"
      },
      "execution_count": null,
      "outputs": []
    },
    {
      "cell_type": "code",
      "source": [
        "for number in numbers:\n",
        "  print(f'\"{number}\" \\t-->{number.isdecimal()}')"
      ],
      "metadata": {
        "colab": {
          "base_uri": "https://localhost:8080/"
        },
        "id": "jPkqdKF4aTGi",
        "outputId": "f1f2b83c-16d6-4ffc-d1b6-8134830f0103"
      },
      "execution_count": null,
      "outputs": [
        {
          "output_type": "stream",
          "name": "stdout",
          "text": [
            "\"1004\" \t-->True\n",
            "\"-1\" \t-->False\n",
            "\"3.14\" \t-->False\n",
            "\"Ⅸ\" \t-->False\n",
            "\"⅞\" \t-->False\n",
            "\"5²\" \t-->False\n",
            "\"50%\" \t-->False\n"
          ]
        }
      ]
    },
    {
      "cell_type": "code",
      "source": [
        "for number in numbers:\n",
        "  print(f'\"{number}\" \\t-->{number.isdigit()}')"
      ],
      "metadata": {
        "colab": {
          "base_uri": "https://localhost:8080/"
        },
        "id": "H7K078hIajT-",
        "outputId": "ace1e2be-a268-4091-852d-5f06c3105785"
      },
      "execution_count": null,
      "outputs": [
        {
          "output_type": "stream",
          "name": "stdout",
          "text": [
            "\"1004\" \t-->True\n",
            "\"-1\" \t-->False\n",
            "\"3.14\" \t-->False\n",
            "\"Ⅸ\" \t-->False\n",
            "\"⅞\" \t-->False\n",
            "\"5²\" \t-->True\n",
            "\"50%\" \t-->False\n"
          ]
        }
      ]
    },
    {
      "cell_type": "code",
      "source": [
        "for number in numbers:\n",
        "  print(f'\"{number}\" \\t-->{number.isnumeric()}')"
      ],
      "metadata": {
        "colab": {
          "base_uri": "https://localhost:8080/"
        },
        "id": "nsZxaOvFbMHp",
        "outputId": "a0766fe7-bec3-42d0-9af0-2427c48619ab"
      },
      "execution_count": null,
      "outputs": [
        {
          "output_type": "stream",
          "name": "stdout",
          "text": [
            "\"1004\" \t-->True\n",
            "\"-1\" \t-->False\n",
            "\"3.14\" \t-->False\n",
            "\"Ⅸ\" \t-->True\n",
            "\"⅞\" \t-->True\n",
            "\"5²\" \t-->True\n",
            "\"50%\" \t-->False\n"
          ]
        }
      ]
    }
  ]
}