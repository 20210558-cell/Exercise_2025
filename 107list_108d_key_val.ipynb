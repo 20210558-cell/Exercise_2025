{
  "nbformat": 4,
  "nbformat_minor": 0,
  "metadata": {
    "colab": {
      "provenance": [],
      "authorship_tag": "ABX9TyOkCjf4uit3XSKO1WkTNP4Z",
      "include_colab_link": true
    },
    "kernelspec": {
      "name": "python3",
      "display_name": "Python 3"
    },
    "language_info": {
      "name": "python"
    }
  },
  "cells": [
    {
      "cell_type": "markdown",
      "metadata": {
        "id": "view-in-github",
        "colab_type": "text"
      },
      "source": [
        "<a href=\"https://colab.research.google.com/github/20210558-cell/Homework_2025/blob/main/107list_108d_key_val.ipynb\" target=\"_parent\"><img src=\"https://colab.research.google.com/assets/colab-badge.svg\" alt=\"Open In Colab\"/></a>"
      ]
    },
    {
      "cell_type": "code",
      "execution_count": null,
      "metadata": {
        "colab": {
          "base_uri": "https://localhost:8080/"
        },
        "id": "lWV3POlkCjyN",
        "outputId": "1f2becfd-f625-406b-aa4e-c619867aeec4"
      },
      "outputs": [
        {
          "output_type": "stream",
          "name": "stdout",
          "text": [
            "['Mary', 'Ceis', 'Aimy', 'Tom']\n"
          ]
        }
      ],
      "source": [
        "names = {'Mary':10999, 'Ceis':2111, 'Aimy':9778, 'Tom':20245}\n",
        "nameList = list(names)\n",
        "print(nameList)"
      ]
    },
    {
      "cell_type": "code",
      "source": [
        "nameList = ['Mary', 'Cris', 'Aimy', 'Tom', 'Bob']\n",
        "population = [10999, 2111, 9778, 20245, 27115]\n",
        "names = { }       # 빈 딕셔너리 정의\n",
        "for k, v in zip(nameList, population):\n",
        "  names[k] = v\n",
        "  print(names)"
      ],
      "metadata": {
        "colab": {
          "base_uri": "https://localhost:8080/"
        },
        "id": "3uWtObplDDj9",
        "outputId": "7dbb8816-dc64-48f2-e747-7162e8cbf3ad"
      },
      "execution_count": null,
      "outputs": [
        {
          "output_type": "stream",
          "name": "stdout",
          "text": [
            "{'Mary': 10999}\n",
            "{'Mary': 10999, 'Cris': 2111}\n",
            "{'Mary': 10999, 'Cris': 2111, 'Aimy': 9778}\n",
            "{'Mary': 10999, 'Cris': 2111, 'Aimy': 9778, 'Tom': 20245}\n",
            "{'Mary': 10999, 'Cris': 2111, 'Aimy': 9778, 'Tom': 20245, 'Bob': 27115}\n"
          ]
        }
      ]
    },
    {
      "cell_type": "code",
      "source": [
        "names['Mary'] = 20000\n",
        "print(names)"
      ],
      "metadata": {
        "colab": {
          "base_uri": "https://localhost:8080/"
        },
        "id": "SBK9abcmDaoZ",
        "outputId": "2c76c1ea-c106-4160-e21c-f78f3e15ef9b"
      },
      "execution_count": null,
      "outputs": [
        {
          "output_type": "stream",
          "name": "stdout",
          "text": [
            "{'Mary': 20000, 'Cris': 2111, 'Aimy': 9778, 'Tom': 20245, 'Bob': 27115}\n"
          ]
        }
      ]
    }
  ]
}