{
  "nbformat": 4,
  "nbformat_minor": 0,
  "metadata": {
    "colab": {
      "provenance": [],
      "include_colab_link": true
    },
    "kernelspec": {
      "name": "python3",
      "display_name": "Python 3"
    },
    "language_info": {
      "name": "python"
    }
  },
  "cells": [
    {
      "cell_type": "markdown",
      "metadata": {
        "id": "view-in-github",
        "colab_type": "text"
      },
      "source": [
        "<a href=\"https://colab.research.google.com/github/20210558-cell/Exercise_2025/blob/main/Department%20of%20Telecommunication%20Engineering.ipynb\" target=\"_parent\"><img src=\"https://colab.research.google.com/assets/colab-badge.svg\" alt=\"Open In Colab\"/></a>"
      ]
    },
    {
      "cell_type": "markdown",
      "source": [
        "#🏫 **<font color = 'blue'> 한남대학교 정보통신공학과**\n",
        "#### ***Dept. of Information and Communication Engineering***"
      ],
      "metadata": {
        "id": "H7jLh9hlg4g3"
      }
    },
    {
      "cell_type": "markdown",
      "source": [
        "# <font color = 'yellow'> **💡 학과 소개**\n",
        "\n",
        "## 📚 **<font color = \"black\">교육과정<font color = \"white\">**\n",
        "|||\n",
        "|:--:|:--:|\n",
        "| 프로그래밍 | - 공학소프트웨어, 시스템프로그래밍, 데이터구조 등 |\n",
        "| 디지털·아날로그 회로 | - 디지털논리, 컴퓨터구조, 마이크로프로세서 등 |\n",
        "| 통신·전파·보안 | - 데이터통신, 통신이론, 통신망공학 등 |\n",
        "| 4차산업혁명 융합 | - 인공지능, 사물인터넷, 정보통신실무 등 |\n",
        "##### <font color = \"red\"> * 위 교육과정은 추후 변경될 수 있음\n",
        "\n",
        "\n",
        "## ✏️ **<font color = \"black\">진학가이드**\n",
        "### **<font color = \"green\">1️⃣ 관련 비교과(체험) 활동**\n",
        "- 모바일 앱 개발, 드론 제작/응용 등의 전공 소모임 활동\n",
        "- 전공 관련 교내외 공모전 및 학술제 작품 제작 및 참여\n",
        "- 4차 산업혁명 관련 (IoT, 딥러닝, 빅데이터 등) 교육 프로그램 운영\n",
        "- OT, MT, 체육대회, 축제참여\n",
        "\n",
        "### **<font color = \"green\">2️⃣ 권장도서**\n",
        "- 쉽게 풀어쓴 C언어 Express <font color = \"purple\">***by 천인국***\n",
        "- </font>클라우스 슈밥의 제4차 산업혁명 <font color = \"purple\">***by 클라우드 슈밥***\n",
        "- </font>제3의 물결  <font color = \"purple\">***by 앨빈 토플러***\n",
        "- </font>4차산업혁명시대 온라인생존마케팅  <font color = \"purple\">***by 안희곤***\n",
        "- </font>돈으로 살 수 없는 것들  <font color = \"purple\">***by 마이클 샌델***\n",
        "\n",
        "\n",
        "## 💻 **<font color = \"black\">정보통신공학과만의 <font color = \"blue\">특별한 프로그램**\n",
        "- IPP 일학습병행제\n",
        "- 어학 및 IT관련 자격증 취득 경비지원\n",
        "- 선후간(시니어메이트) 학습지도 프로그램\n",
        "- 정보통신 관련 기사자격증 특강 프로그램\n",
        "- 청년취업프로그램 딥러닝 및 빅데이터 과정"
      ],
      "metadata": {
        "id": "OtctgkT2NOCS"
      }
    },
    {
      "cell_type": "markdown",
      "source": [
        "## **☎️ <font color = \"black\">정보통신공학과 위치 및 전화번호** [학과운영 홈페이지](http://ice.hannam.ac.kr/)\n",
        "    🏠 공과대학 (건물번호 09) 4층 90417호       📞 042-629-7567"
      ],
      "metadata": {
        "id": "A7dZHnyyc289"
      }
    }
  ]
}