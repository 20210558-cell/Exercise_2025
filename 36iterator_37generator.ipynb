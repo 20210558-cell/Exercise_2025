{
  "nbformat": 4,
  "nbformat_minor": 0,
  "metadata": {
    "colab": {
      "provenance": [],
      "authorship_tag": "ABX9TyNDi9IqezpqnIheu/KdJvKV",
      "include_colab_link": true
    },
    "kernelspec": {
      "name": "python3",
      "display_name": "Python 3"
    },
    "language_info": {
      "name": "python"
    }
  },
  "cells": [
    {
      "cell_type": "markdown",
      "metadata": {
        "id": "view-in-github",
        "colab_type": "text"
      },
      "source": [
        "<a href=\"https://colab.research.google.com/github/20210558-cell/Exercise_2025/blob/main/36iterator_37generator.ipynb\" target=\"_parent\"><img src=\"https://colab.research.google.com/assets/colab-badge.svg\" alt=\"Open In Colab\"/></a>"
      ]
    },
    {
      "cell_type": "code",
      "execution_count": null,
      "metadata": {
        "colab": {
          "base_uri": "https://localhost:8080/"
        },
        "id": "-DLx0B9d8A5j",
        "outputId": "072291df-f4bb-4500-f4aa-d85fbf732c74"
      },
      "outputs": [
        {
          "output_type": "stream",
          "name": "stdout",
          "text": [
            "0 1 2 3 4 "
          ]
        }
      ],
      "source": [
        "class MyRange:\n",
        "  def __init__(self, n):\n",
        "    self.maxn = n\n",
        "    self.current = 0\n",
        "\n",
        "  def __iter__(self):\n",
        "    return self\n",
        "\n",
        "  def __next__(self):\n",
        "    if self.current >= self.maxn:\n",
        "      raise StopIteration\n",
        "    else:\n",
        "      ret = self.current\n",
        "      self.current += 1\n",
        "      return ret\n",
        "\n",
        "intList = MyRange(5)\n",
        "for i in intList:\n",
        "  print(i, end=' ')"
      ]
    },
    {
      "cell_type": "code",
      "source": [
        "def MyRange(n):\n",
        "  current = 0\n",
        "  while current < n:\n",
        "    yield current\n",
        "    current += 1\n",
        "\n",
        "# 제네레이터 객체 생성\n",
        "intList = MyRange(5)\n",
        "for i in intList:\n",
        "  print(i, end=', ')"
      ],
      "metadata": {
        "colab": {
          "base_uri": "https://localhost:8080/"
        },
        "id": "52kRkc7i-Uuq",
        "outputId": "3aa68639-47a4-423e-c68e-f39057831c78"
      },
      "execution_count": null,
      "outputs": [
        {
          "output_type": "stream",
          "name": "stdout",
          "text": [
            "0, 1, 2, 3, 4, "
          ]
        }
      ]
    }
  ]
}