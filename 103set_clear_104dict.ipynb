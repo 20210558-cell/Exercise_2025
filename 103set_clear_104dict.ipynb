{
  "nbformat": 4,
  "nbformat_minor": 0,
  "metadata": {
    "colab": {
      "provenance": [],
      "authorship_tag": "ABX9TyMMKfCpKtz27SSsqPA+WlJZ",
      "include_colab_link": true
    },
    "kernelspec": {
      "name": "python3",
      "display_name": "Python 3"
    },
    "language_info": {
      "name": "python"
    }
  },
  "cells": [
    {
      "cell_type": "markdown",
      "metadata": {
        "id": "view-in-github",
        "colab_type": "text"
      },
      "source": [
        "<a href=\"https://colab.research.google.com/github/20210558-cell/Homework_2025/blob/main/103set_clear_104dict.ipynb\" target=\"_parent\"><img src=\"https://colab.research.google.com/assets/colab-badge.svg\" alt=\"Open In Colab\"/></a>"
      ]
    },
    {
      "cell_type": "code",
      "execution_count": null,
      "metadata": {
        "colab": {
          "base_uri": "https://localhost:8080/"
        },
        "id": "2jV9AznTPDqk",
        "outputId": "0d862414-303d-40cd-feb8-6f92def5ef69"
      },
      "outputs": [
        {
          "output_type": "stream",
          "name": "stdout",
          "text": [
            "set1={'a', 'r'}, set2=set()\n"
          ]
        }
      ],
      "source": [
        "set1 = set('abradacabra')\n",
        "set2 = set('arirangsong')\n",
        "set1 &= set2\n",
        "set2.clear()\n",
        "print(f'set1={set1}, set2={set2}')"
      ]
    },
    {
      "cell_type": "code",
      "source": [
        "population = {'서울':9407540, '부산':3320276, '인천':2964820}"
      ],
      "metadata": {
        "id": "pJ8gwWFzPgQo"
      },
      "execution_count": null,
      "outputs": []
    },
    {
      "cell_type": "code",
      "source": [
        "population = dict(서울=9407540, 부산=3320276, 인천=2964820)\n",
        "print(population)"
      ],
      "metadata": {
        "colab": {
          "base_uri": "https://localhost:8080/"
        },
        "id": "rofYXvQBPuGs",
        "outputId": "29a64ca2-35e5-47f5-887c-2cf530131bea"
      },
      "execution_count": null,
      "outputs": [
        {
          "output_type": "stream",
          "name": "stdout",
          "text": [
            "{'서울': 9407540, '부산': 3320276, '인천': 2964820}\n"
          ]
        }
      ]
    },
    {
      "cell_type": "code",
      "source": [
        "population = dict([('서울',407540),('부산',3320276),('인천',2964820)])\n",
        "print(population)"
      ],
      "metadata": {
        "colab": {
          "base_uri": "https://localhost:8080/"
        },
        "id": "IgSdRAjtQFof",
        "outputId": "7e07d478-0208-486c-cef1-8c36060be045"
      },
      "execution_count": null,
      "outputs": [
        {
          "output_type": "stream",
          "name": "stdout",
          "text": [
            "{'서울': 407540, '부산': 3320276, '인천': 2964820}\n"
          ]
        }
      ]
    }
  ]
}